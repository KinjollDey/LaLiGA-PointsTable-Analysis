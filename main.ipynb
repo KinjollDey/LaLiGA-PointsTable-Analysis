{
 "cells": [
  {
   "cell_type": "code",
   "execution_count": 3,
   "metadata": {},
   "outputs": [],
   "source": [
    "import numpy as np\n",
    "import pandas as pd"
   ]
  },
  {
   "cell_type": "code",
   "execution_count": 67,
   "metadata": {},
   "outputs": [],
   "source": [
    "## Data Inport\n",
    "data = pd.read_csv('Laliga.csv', header = 1,\n",
    "index_col = 0, parse_dates= True)"
   ]
  },
  {
   "cell_type": "code",
   "execution_count": 68,
   "metadata": {},
   "outputs": [
    {
     "output_type": "execute_result",
     "data": {
      "text/plain": "(61, 19)"
     },
     "metadata": {},
     "execution_count": 68
    }
   ],
   "source": [
    "## Overview\n",
    "data.shape\n"
   ]
  },
  {
   "cell_type": "code",
   "execution_count": 69,
   "metadata": {},
   "outputs": [
    {
     "output_type": "execute_result",
     "data": {
      "text/plain": "1159"
     },
     "metadata": {},
     "execution_count": 69
    }
   ],
   "source": [
    "data.size"
   ]
  },
  {
   "cell_type": "code",
   "execution_count": 70,
   "metadata": {},
   "outputs": [
    {
     "output_type": "execute_result",
     "data": {
      "text/plain": "                Team  Seasons Points GamesPlayed GamesWon GamesDrawn  \\\nPos                                                                    \n1        Real Madrid       86   4385        2762     1647        552   \n2          Barcelona       86   4262        2762     1581        573   \n3    Atletico Madrid       80   3442        2614     1241        598   \n4           Valencia       82   3386        2664     1187        616   \n5    Athletic Bilbao       86   3368        2762     1209        633   \n\n    GamesLost GoalsFor GoalsAgainst Champion Runner-up Third Fourth Fifth  \\\nPos                                                                         \n1         563     5947         3140       33        23     8      8     3   \n2         608     5900         3114       25        25    12     12     4   \n3         775     4534         3309       10         8    16      9     7   \n4         861     4398         3469        6         6    10     11    10   \n5         920     4631         3700        8         7    10      5     8   \n\n    Sixth   T    Debut Since/LastApp  BestPosition  \nPos                                                 \n1       4  79     1929          1929             1  \n2       6  83     1929          1929             1  \n3       6  56     1929       2002-03             1  \n4       7  50  1931-32       1987-88             1  \n5      10  49     1929          1929             1  ",
      "text/html": "<div>\n<style scoped>\n    .dataframe tbody tr th:only-of-type {\n        vertical-align: middle;\n    }\n\n    .dataframe tbody tr th {\n        vertical-align: top;\n    }\n\n    .dataframe thead th {\n        text-align: right;\n    }\n</style>\n<table border=\"1\" class=\"dataframe\">\n  <thead>\n    <tr style=\"text-align: right;\">\n      <th></th>\n      <th>Team</th>\n      <th>Seasons</th>\n      <th>Points</th>\n      <th>GamesPlayed</th>\n      <th>GamesWon</th>\n      <th>GamesDrawn</th>\n      <th>GamesLost</th>\n      <th>GoalsFor</th>\n      <th>GoalsAgainst</th>\n      <th>Champion</th>\n      <th>Runner-up</th>\n      <th>Third</th>\n      <th>Fourth</th>\n      <th>Fifth</th>\n      <th>Sixth</th>\n      <th>T</th>\n      <th>Debut</th>\n      <th>Since/LastApp</th>\n      <th>BestPosition</th>\n    </tr>\n    <tr>\n      <th>Pos</th>\n      <th></th>\n      <th></th>\n      <th></th>\n      <th></th>\n      <th></th>\n      <th></th>\n      <th></th>\n      <th></th>\n      <th></th>\n      <th></th>\n      <th></th>\n      <th></th>\n      <th></th>\n      <th></th>\n      <th></th>\n      <th></th>\n      <th></th>\n      <th></th>\n      <th></th>\n    </tr>\n  </thead>\n  <tbody>\n    <tr>\n      <th>1</th>\n      <td>Real Madrid</td>\n      <td>86</td>\n      <td>4385</td>\n      <td>2762</td>\n      <td>1647</td>\n      <td>552</td>\n      <td>563</td>\n      <td>5947</td>\n      <td>3140</td>\n      <td>33</td>\n      <td>23</td>\n      <td>8</td>\n      <td>8</td>\n      <td>3</td>\n      <td>4</td>\n      <td>79</td>\n      <td>1929</td>\n      <td>1929</td>\n      <td>1</td>\n    </tr>\n    <tr>\n      <th>2</th>\n      <td>Barcelona</td>\n      <td>86</td>\n      <td>4262</td>\n      <td>2762</td>\n      <td>1581</td>\n      <td>573</td>\n      <td>608</td>\n      <td>5900</td>\n      <td>3114</td>\n      <td>25</td>\n      <td>25</td>\n      <td>12</td>\n      <td>12</td>\n      <td>4</td>\n      <td>6</td>\n      <td>83</td>\n      <td>1929</td>\n      <td>1929</td>\n      <td>1</td>\n    </tr>\n    <tr>\n      <th>3</th>\n      <td>Atletico Madrid</td>\n      <td>80</td>\n      <td>3442</td>\n      <td>2614</td>\n      <td>1241</td>\n      <td>598</td>\n      <td>775</td>\n      <td>4534</td>\n      <td>3309</td>\n      <td>10</td>\n      <td>8</td>\n      <td>16</td>\n      <td>9</td>\n      <td>7</td>\n      <td>6</td>\n      <td>56</td>\n      <td>1929</td>\n      <td>2002-03</td>\n      <td>1</td>\n    </tr>\n    <tr>\n      <th>4</th>\n      <td>Valencia</td>\n      <td>82</td>\n      <td>3386</td>\n      <td>2664</td>\n      <td>1187</td>\n      <td>616</td>\n      <td>861</td>\n      <td>4398</td>\n      <td>3469</td>\n      <td>6</td>\n      <td>6</td>\n      <td>10</td>\n      <td>11</td>\n      <td>10</td>\n      <td>7</td>\n      <td>50</td>\n      <td>1931-32</td>\n      <td>1987-88</td>\n      <td>1</td>\n    </tr>\n    <tr>\n      <th>5</th>\n      <td>Athletic Bilbao</td>\n      <td>86</td>\n      <td>3368</td>\n      <td>2762</td>\n      <td>1209</td>\n      <td>633</td>\n      <td>920</td>\n      <td>4631</td>\n      <td>3700</td>\n      <td>8</td>\n      <td>7</td>\n      <td>10</td>\n      <td>5</td>\n      <td>8</td>\n      <td>10</td>\n      <td>49</td>\n      <td>1929</td>\n      <td>1929</td>\n      <td>1</td>\n    </tr>\n  </tbody>\n</table>\n</div>"
     },
     "metadata": {},
     "execution_count": 70
    }
   ],
   "source": [
    "data.head()"
   ]
  },
  {
   "cell_type": "code",
   "execution_count": 91,
   "metadata": {},
   "outputs": [],
   "source": [
    "data = data.rename(columns = {'Since/LastApp':'Last App'})"
   ]
  },
  {
   "cell_type": "code",
   "execution_count": 92,
   "metadata": {},
   "outputs": [
    {
     "output_type": "execute_result",
     "data": {
      "text/plain": "                 Team  Seasons Points GamesPlayed GamesWon GamesDrawn  \\\nPos                                                                     \n57              Xerez        1     34          38        8         10   \n58             Condal        1     22          30        7          8   \n59    Atletico Tetuan        1     19          30        7          5   \n60   Cultural Leonesa        1     14          30        5          4   \n61             Girona        1      0           0        0          0   \n\n    GamesLost GoalsFor GoalsAgainst Champion Runner-up Third Fourth Fifth  \\\nPos                                                                         \n57         20       38           66        0         0     0      0     0   \n58         15       37           57        0         0     0      0     0   \n59         18       51           85        0         0     0      0     0   \n60         21       34           65        0         0     0      0     0   \n61          0        0            0        0         0     0      0     0   \n\n    Sixth  T    Debut Last App  BestPosition  \nPos                                           \n57      0  0  2009-10  2009-10            20  \n58      0  0  1956-57  1956-57            16  \n59      0  0  1951-52  1951-52            16  \n60      0  0  1955-56  1955-56            15  \n61      0  0  2017-18  2017-18             9  ",
      "text/html": "<div>\n<style scoped>\n    .dataframe tbody tr th:only-of-type {\n        vertical-align: middle;\n    }\n\n    .dataframe tbody tr th {\n        vertical-align: top;\n    }\n\n    .dataframe thead th {\n        text-align: right;\n    }\n</style>\n<table border=\"1\" class=\"dataframe\">\n  <thead>\n    <tr style=\"text-align: right;\">\n      <th></th>\n      <th>Team</th>\n      <th>Seasons</th>\n      <th>Points</th>\n      <th>GamesPlayed</th>\n      <th>GamesWon</th>\n      <th>GamesDrawn</th>\n      <th>GamesLost</th>\n      <th>GoalsFor</th>\n      <th>GoalsAgainst</th>\n      <th>Champion</th>\n      <th>Runner-up</th>\n      <th>Third</th>\n      <th>Fourth</th>\n      <th>Fifth</th>\n      <th>Sixth</th>\n      <th>T</th>\n      <th>Debut</th>\n      <th>Last App</th>\n      <th>BestPosition</th>\n    </tr>\n    <tr>\n      <th>Pos</th>\n      <th></th>\n      <th></th>\n      <th></th>\n      <th></th>\n      <th></th>\n      <th></th>\n      <th></th>\n      <th></th>\n      <th></th>\n      <th></th>\n      <th></th>\n      <th></th>\n      <th></th>\n      <th></th>\n      <th></th>\n      <th></th>\n      <th></th>\n      <th></th>\n      <th></th>\n    </tr>\n  </thead>\n  <tbody>\n    <tr>\n      <th>57</th>\n      <td>Xerez</td>\n      <td>1</td>\n      <td>34</td>\n      <td>38</td>\n      <td>8</td>\n      <td>10</td>\n      <td>20</td>\n      <td>38</td>\n      <td>66</td>\n      <td>0</td>\n      <td>0</td>\n      <td>0</td>\n      <td>0</td>\n      <td>0</td>\n      <td>0</td>\n      <td>0</td>\n      <td>2009-10</td>\n      <td>2009-10</td>\n      <td>20</td>\n    </tr>\n    <tr>\n      <th>58</th>\n      <td>Condal</td>\n      <td>1</td>\n      <td>22</td>\n      <td>30</td>\n      <td>7</td>\n      <td>8</td>\n      <td>15</td>\n      <td>37</td>\n      <td>57</td>\n      <td>0</td>\n      <td>0</td>\n      <td>0</td>\n      <td>0</td>\n      <td>0</td>\n      <td>0</td>\n      <td>0</td>\n      <td>1956-57</td>\n      <td>1956-57</td>\n      <td>16</td>\n    </tr>\n    <tr>\n      <th>59</th>\n      <td>Atletico Tetuan</td>\n      <td>1</td>\n      <td>19</td>\n      <td>30</td>\n      <td>7</td>\n      <td>5</td>\n      <td>18</td>\n      <td>51</td>\n      <td>85</td>\n      <td>0</td>\n      <td>0</td>\n      <td>0</td>\n      <td>0</td>\n      <td>0</td>\n      <td>0</td>\n      <td>0</td>\n      <td>1951-52</td>\n      <td>1951-52</td>\n      <td>16</td>\n    </tr>\n    <tr>\n      <th>60</th>\n      <td>Cultural Leonesa</td>\n      <td>1</td>\n      <td>14</td>\n      <td>30</td>\n      <td>5</td>\n      <td>4</td>\n      <td>21</td>\n      <td>34</td>\n      <td>65</td>\n      <td>0</td>\n      <td>0</td>\n      <td>0</td>\n      <td>0</td>\n      <td>0</td>\n      <td>0</td>\n      <td>0</td>\n      <td>1955-56</td>\n      <td>1955-56</td>\n      <td>15</td>\n    </tr>\n    <tr>\n      <th>61</th>\n      <td>Girona</td>\n      <td>1</td>\n      <td>0</td>\n      <td>0</td>\n      <td>0</td>\n      <td>0</td>\n      <td>0</td>\n      <td>0</td>\n      <td>0</td>\n      <td>0</td>\n      <td>0</td>\n      <td>0</td>\n      <td>0</td>\n      <td>0</td>\n      <td>0</td>\n      <td>0</td>\n      <td>2017-18</td>\n      <td>2017-18</td>\n      <td>9</td>\n    </tr>\n  </tbody>\n</table>\n</div>"
     },
     "metadata": {},
     "execution_count": 92
    }
   ],
   "source": [
    "data.tail()"
   ]
  },
  {
   "cell_type": "code",
   "execution_count": 93,
   "metadata": {},
   "outputs": [
    {
     "output_type": "execute_result",
     "data": {
      "text/plain": "      Team  Seasons  Points  GamesPlayed  GamesWon  GamesDrawn  GamesLost  \\\nPos                                                                         \n57   False    False   False        False     False       False      False   \n58   False    False   False        False     False       False      False   \n59   False    False   False        False     False       False      False   \n60   False    False   False        False     False       False      False   \n61   False    False   False        False     False       False      False   \n\n     GoalsFor  GoalsAgainst  Champion  Runner-up  Third  Fourth  Fifth  Sixth  \\\nPos                                                                             \n57      False         False     False      False  False   False  False  False   \n58      False         False     False      False  False   False  False  False   \n59      False         False     False      False  False   False  False  False   \n60      False         False     False      False  False   False  False  False   \n61      False         False     False      False  False   False  False  False   \n\n         T  Debut  Last App  BestPosition  \nPos                                        \n57   False  False     False         False  \n58   False  False     False         False  \n59   False  False     False         False  \n60   False  False     False         False  \n61   False  False     False         False  ",
      "text/html": "<div>\n<style scoped>\n    .dataframe tbody tr th:only-of-type {\n        vertical-align: middle;\n    }\n\n    .dataframe tbody tr th {\n        vertical-align: top;\n    }\n\n    .dataframe thead th {\n        text-align: right;\n    }\n</style>\n<table border=\"1\" class=\"dataframe\">\n  <thead>\n    <tr style=\"text-align: right;\">\n      <th></th>\n      <th>Team</th>\n      <th>Seasons</th>\n      <th>Points</th>\n      <th>GamesPlayed</th>\n      <th>GamesWon</th>\n      <th>GamesDrawn</th>\n      <th>GamesLost</th>\n      <th>GoalsFor</th>\n      <th>GoalsAgainst</th>\n      <th>Champion</th>\n      <th>Runner-up</th>\n      <th>Third</th>\n      <th>Fourth</th>\n      <th>Fifth</th>\n      <th>Sixth</th>\n      <th>T</th>\n      <th>Debut</th>\n      <th>Last App</th>\n      <th>BestPosition</th>\n    </tr>\n    <tr>\n      <th>Pos</th>\n      <th></th>\n      <th></th>\n      <th></th>\n      <th></th>\n      <th></th>\n      <th></th>\n      <th></th>\n      <th></th>\n      <th></th>\n      <th></th>\n      <th></th>\n      <th></th>\n      <th></th>\n      <th></th>\n      <th></th>\n      <th></th>\n      <th></th>\n      <th></th>\n      <th></th>\n    </tr>\n  </thead>\n  <tbody>\n    <tr>\n      <th>57</th>\n      <td>False</td>\n      <td>False</td>\n      <td>False</td>\n      <td>False</td>\n      <td>False</td>\n      <td>False</td>\n      <td>False</td>\n      <td>False</td>\n      <td>False</td>\n      <td>False</td>\n      <td>False</td>\n      <td>False</td>\n      <td>False</td>\n      <td>False</td>\n      <td>False</td>\n      <td>False</td>\n      <td>False</td>\n      <td>False</td>\n      <td>False</td>\n    </tr>\n    <tr>\n      <th>58</th>\n      <td>False</td>\n      <td>False</td>\n      <td>False</td>\n      <td>False</td>\n      <td>False</td>\n      <td>False</td>\n      <td>False</td>\n      <td>False</td>\n      <td>False</td>\n      <td>False</td>\n      <td>False</td>\n      <td>False</td>\n      <td>False</td>\n      <td>False</td>\n      <td>False</td>\n      <td>False</td>\n      <td>False</td>\n      <td>False</td>\n      <td>False</td>\n    </tr>\n    <tr>\n      <th>59</th>\n      <td>False</td>\n      <td>False</td>\n      <td>False</td>\n      <td>False</td>\n      <td>False</td>\n      <td>False</td>\n      <td>False</td>\n      <td>False</td>\n      <td>False</td>\n      <td>False</td>\n      <td>False</td>\n      <td>False</td>\n      <td>False</td>\n      <td>False</td>\n      <td>False</td>\n      <td>False</td>\n      <td>False</td>\n      <td>False</td>\n      <td>False</td>\n    </tr>\n    <tr>\n      <th>60</th>\n      <td>False</td>\n      <td>False</td>\n      <td>False</td>\n      <td>False</td>\n      <td>False</td>\n      <td>False</td>\n      <td>False</td>\n      <td>False</td>\n      <td>False</td>\n      <td>False</td>\n      <td>False</td>\n      <td>False</td>\n      <td>False</td>\n      <td>False</td>\n      <td>False</td>\n      <td>False</td>\n      <td>False</td>\n      <td>False</td>\n      <td>False</td>\n    </tr>\n    <tr>\n      <th>61</th>\n      <td>False</td>\n      <td>False</td>\n      <td>False</td>\n      <td>False</td>\n      <td>False</td>\n      <td>False</td>\n      <td>False</td>\n      <td>False</td>\n      <td>False</td>\n      <td>False</td>\n      <td>False</td>\n      <td>False</td>\n      <td>False</td>\n      <td>False</td>\n      <td>False</td>\n      <td>False</td>\n      <td>False</td>\n      <td>False</td>\n      <td>False</td>\n    </tr>\n  </tbody>\n</table>\n</div>"
     },
     "metadata": {},
     "execution_count": 93
    }
   ],
   "source": [
    "## checking for NUll Values\n",
    "\n",
    "data.isnull().head()\n",
    "data.isnull().tail()"
   ]
  },
  {
   "cell_type": "code",
   "execution_count": 94,
   "metadata": {},
   "outputs": [
    {
     "output_type": "execute_result",
     "data": {
      "text/plain": "Index(['Team', 'Seasons', 'Points', 'GamesPlayed', 'GamesWon', 'GamesDrawn',\n       'GamesLost', 'GoalsFor', 'GoalsAgainst', 'Champion', 'Runner-up',\n       'Third', 'Fourth', 'Fifth', 'Sixth', 'T', 'Debut', 'Last App',\n       'BestPosition'],\n      dtype='object')"
     },
     "metadata": {},
     "execution_count": 94
    }
   ],
   "source": [
    "## '-' has to be replaced by 0\n",
    "columns = data.columns\n",
    "columns"
   ]
  },
  {
   "cell_type": "code",
   "execution_count": 74,
   "metadata": {},
   "outputs": [
    {
     "output_type": "execute_result",
     "data": {
      "text/plain": "                Team  Seasons Points GamesPlayed GamesWon GamesDrawn  \\\nPos                                                                    \n1        Real Madrid       86   4385        2762     1647        552   \n2          Barcelona       86   4262        2762     1581        573   \n3    Atletico Madrid       80   3442        2614     1241        598   \n4           Valencia       82   3386        2664     1187        616   \n5    Athletic Bilbao       86   3368        2762     1209        633   \n\n    GamesLost GoalsFor GoalsAgainst Champion Runner-up Third Fourth Fifth  \\\nPos                                                                         \n1         563     5947         3140       33        23     8      8     3   \n2         608     5900         3114       25        25    12     12     4   \n3         775     4534         3309       10         8    16      9     7   \n4         861     4398         3469        6         6    10     11    10   \n5         920     4631         3700        8         7    10      5     8   \n\n    Sixth   T    Debut Since/LastApp  BestPosition  \nPos                                                 \n1       4  79     1929          1929             1  \n2       6  83     1929          1929             1  \n3       6  56     1929       2002-03             1  \n4       7  50  1931-32       1987-88             1  \n5      10  49     1929          1929             1  ",
      "text/html": "<div>\n<style scoped>\n    .dataframe tbody tr th:only-of-type {\n        vertical-align: middle;\n    }\n\n    .dataframe tbody tr th {\n        vertical-align: top;\n    }\n\n    .dataframe thead th {\n        text-align: right;\n    }\n</style>\n<table border=\"1\" class=\"dataframe\">\n  <thead>\n    <tr style=\"text-align: right;\">\n      <th></th>\n      <th>Team</th>\n      <th>Seasons</th>\n      <th>Points</th>\n      <th>GamesPlayed</th>\n      <th>GamesWon</th>\n      <th>GamesDrawn</th>\n      <th>GamesLost</th>\n      <th>GoalsFor</th>\n      <th>GoalsAgainst</th>\n      <th>Champion</th>\n      <th>Runner-up</th>\n      <th>Third</th>\n      <th>Fourth</th>\n      <th>Fifth</th>\n      <th>Sixth</th>\n      <th>T</th>\n      <th>Debut</th>\n      <th>Since/LastApp</th>\n      <th>BestPosition</th>\n    </tr>\n    <tr>\n      <th>Pos</th>\n      <th></th>\n      <th></th>\n      <th></th>\n      <th></th>\n      <th></th>\n      <th></th>\n      <th></th>\n      <th></th>\n      <th></th>\n      <th></th>\n      <th></th>\n      <th></th>\n      <th></th>\n      <th></th>\n      <th></th>\n      <th></th>\n      <th></th>\n      <th></th>\n      <th></th>\n    </tr>\n  </thead>\n  <tbody>\n    <tr>\n      <th>1</th>\n      <td>Real Madrid</td>\n      <td>86</td>\n      <td>4385</td>\n      <td>2762</td>\n      <td>1647</td>\n      <td>552</td>\n      <td>563</td>\n      <td>5947</td>\n      <td>3140</td>\n      <td>33</td>\n      <td>23</td>\n      <td>8</td>\n      <td>8</td>\n      <td>3</td>\n      <td>4</td>\n      <td>79</td>\n      <td>1929</td>\n      <td>1929</td>\n      <td>1</td>\n    </tr>\n    <tr>\n      <th>2</th>\n      <td>Barcelona</td>\n      <td>86</td>\n      <td>4262</td>\n      <td>2762</td>\n      <td>1581</td>\n      <td>573</td>\n      <td>608</td>\n      <td>5900</td>\n      <td>3114</td>\n      <td>25</td>\n      <td>25</td>\n      <td>12</td>\n      <td>12</td>\n      <td>4</td>\n      <td>6</td>\n      <td>83</td>\n      <td>1929</td>\n      <td>1929</td>\n      <td>1</td>\n    </tr>\n    <tr>\n      <th>3</th>\n      <td>Atletico Madrid</td>\n      <td>80</td>\n      <td>3442</td>\n      <td>2614</td>\n      <td>1241</td>\n      <td>598</td>\n      <td>775</td>\n      <td>4534</td>\n      <td>3309</td>\n      <td>10</td>\n      <td>8</td>\n      <td>16</td>\n      <td>9</td>\n      <td>7</td>\n      <td>6</td>\n      <td>56</td>\n      <td>1929</td>\n      <td>2002-03</td>\n      <td>1</td>\n    </tr>\n    <tr>\n      <th>4</th>\n      <td>Valencia</td>\n      <td>82</td>\n      <td>3386</td>\n      <td>2664</td>\n      <td>1187</td>\n      <td>616</td>\n      <td>861</td>\n      <td>4398</td>\n      <td>3469</td>\n      <td>6</td>\n      <td>6</td>\n      <td>10</td>\n      <td>11</td>\n      <td>10</td>\n      <td>7</td>\n      <td>50</td>\n      <td>1931-32</td>\n      <td>1987-88</td>\n      <td>1</td>\n    </tr>\n    <tr>\n      <th>5</th>\n      <td>Athletic Bilbao</td>\n      <td>86</td>\n      <td>3368</td>\n      <td>2762</td>\n      <td>1209</td>\n      <td>633</td>\n      <td>920</td>\n      <td>4631</td>\n      <td>3700</td>\n      <td>8</td>\n      <td>7</td>\n      <td>10</td>\n      <td>5</td>\n      <td>8</td>\n      <td>10</td>\n      <td>49</td>\n      <td>1929</td>\n      <td>1929</td>\n      <td>1</td>\n    </tr>\n  </tbody>\n</table>\n</div>"
     },
     "metadata": {},
     "execution_count": 74
    }
   ],
   "source": [
    "data.head()"
   ]
  },
  {
   "cell_type": "code",
   "execution_count": 95,
   "metadata": {},
   "outputs": [],
   "source": [
    "Correct = data['Champion'].replace('-', 0)"
   ]
  },
  {
   "cell_type": "code",
   "execution_count": 96,
   "metadata": {},
   "outputs": [],
   "source": [
    "data['Champion'] = Correct"
   ]
  },
  {
   "cell_type": "code",
   "execution_count": 97,
   "metadata": {},
   "outputs": [
    {
     "output_type": "execute_result",
     "data": {
      "text/plain": "                 Team  Seasons Points GamesPlayed GamesWon GamesDrawn  \\\nPos                                                                     \n57              Xerez        1     34          38        8         10   \n58             Condal        1     22          30        7          8   \n59    Atletico Tetuan        1     19          30        7          5   \n60   Cultural Leonesa        1     14          30        5          4   \n61             Girona        1      0           0        0          0   \n\n    GamesLost GoalsFor GoalsAgainst Champion Runner-up Third Fourth Fifth  \\\nPos                                                                         \n57         20       38           66        0         0     0      0     0   \n58         15       37           57        0         0     0      0     0   \n59         18       51           85        0         0     0      0     0   \n60         21       34           65        0         0     0      0     0   \n61          0        0            0        0         0     0      0     0   \n\n    Sixth  T    Debut Last App  BestPosition  \nPos                                           \n57      0  0  2009-10  2009-10            20  \n58      0  0  1956-57  1956-57            16  \n59      0  0  1951-52  1951-52            16  \n60      0  0  1955-56  1955-56            15  \n61      0  0  2017-18  2017-18             9  ",
      "text/html": "<div>\n<style scoped>\n    .dataframe tbody tr th:only-of-type {\n        vertical-align: middle;\n    }\n\n    .dataframe tbody tr th {\n        vertical-align: top;\n    }\n\n    .dataframe thead th {\n        text-align: right;\n    }\n</style>\n<table border=\"1\" class=\"dataframe\">\n  <thead>\n    <tr style=\"text-align: right;\">\n      <th></th>\n      <th>Team</th>\n      <th>Seasons</th>\n      <th>Points</th>\n      <th>GamesPlayed</th>\n      <th>GamesWon</th>\n      <th>GamesDrawn</th>\n      <th>GamesLost</th>\n      <th>GoalsFor</th>\n      <th>GoalsAgainst</th>\n      <th>Champion</th>\n      <th>Runner-up</th>\n      <th>Third</th>\n      <th>Fourth</th>\n      <th>Fifth</th>\n      <th>Sixth</th>\n      <th>T</th>\n      <th>Debut</th>\n      <th>Last App</th>\n      <th>BestPosition</th>\n    </tr>\n    <tr>\n      <th>Pos</th>\n      <th></th>\n      <th></th>\n      <th></th>\n      <th></th>\n      <th></th>\n      <th></th>\n      <th></th>\n      <th></th>\n      <th></th>\n      <th></th>\n      <th></th>\n      <th></th>\n      <th></th>\n      <th></th>\n      <th></th>\n      <th></th>\n      <th></th>\n      <th></th>\n      <th></th>\n    </tr>\n  </thead>\n  <tbody>\n    <tr>\n      <th>57</th>\n      <td>Xerez</td>\n      <td>1</td>\n      <td>34</td>\n      <td>38</td>\n      <td>8</td>\n      <td>10</td>\n      <td>20</td>\n      <td>38</td>\n      <td>66</td>\n      <td>0</td>\n      <td>0</td>\n      <td>0</td>\n      <td>0</td>\n      <td>0</td>\n      <td>0</td>\n      <td>0</td>\n      <td>2009-10</td>\n      <td>2009-10</td>\n      <td>20</td>\n    </tr>\n    <tr>\n      <th>58</th>\n      <td>Condal</td>\n      <td>1</td>\n      <td>22</td>\n      <td>30</td>\n      <td>7</td>\n      <td>8</td>\n      <td>15</td>\n      <td>37</td>\n      <td>57</td>\n      <td>0</td>\n      <td>0</td>\n      <td>0</td>\n      <td>0</td>\n      <td>0</td>\n      <td>0</td>\n      <td>0</td>\n      <td>1956-57</td>\n      <td>1956-57</td>\n      <td>16</td>\n    </tr>\n    <tr>\n      <th>59</th>\n      <td>Atletico Tetuan</td>\n      <td>1</td>\n      <td>19</td>\n      <td>30</td>\n      <td>7</td>\n      <td>5</td>\n      <td>18</td>\n      <td>51</td>\n      <td>85</td>\n      <td>0</td>\n      <td>0</td>\n      <td>0</td>\n      <td>0</td>\n      <td>0</td>\n      <td>0</td>\n      <td>0</td>\n      <td>1951-52</td>\n      <td>1951-52</td>\n      <td>16</td>\n    </tr>\n    <tr>\n      <th>60</th>\n      <td>Cultural Leonesa</td>\n      <td>1</td>\n      <td>14</td>\n      <td>30</td>\n      <td>5</td>\n      <td>4</td>\n      <td>21</td>\n      <td>34</td>\n      <td>65</td>\n      <td>0</td>\n      <td>0</td>\n      <td>0</td>\n      <td>0</td>\n      <td>0</td>\n      <td>0</td>\n      <td>0</td>\n      <td>1955-56</td>\n      <td>1955-56</td>\n      <td>15</td>\n    </tr>\n    <tr>\n      <th>61</th>\n      <td>Girona</td>\n      <td>1</td>\n      <td>0</td>\n      <td>0</td>\n      <td>0</td>\n      <td>0</td>\n      <td>0</td>\n      <td>0</td>\n      <td>0</td>\n      <td>0</td>\n      <td>0</td>\n      <td>0</td>\n      <td>0</td>\n      <td>0</td>\n      <td>0</td>\n      <td>0</td>\n      <td>2017-18</td>\n      <td>2017-18</td>\n      <td>9</td>\n    </tr>\n  </tbody>\n</table>\n</div>"
     },
     "metadata": {},
     "execution_count": 97
    }
   ],
   "source": [
    "data.tail() ## Working"
   ]
  },
  {
   "cell_type": "code",
   "execution_count": 98,
   "metadata": {},
   "outputs": [],
   "source": [
    "#data[columns[10:16]\n",
    "data = data[columns[:20]].replace('-', 0)\n"
   ]
  },
  {
   "cell_type": "code",
   "execution_count": 99,
   "metadata": {},
   "outputs": [
    {
     "output_type": "execute_result",
     "data": {
      "text/plain": "                 Team  Seasons Points GamesPlayed GamesWon GamesDrawn  \\\nPos                                                                     \n1         Real Madrid       86   4385        2762     1647        552   \n2           Barcelona       86   4262        2762     1581        573   \n3     Atletico Madrid       80   3442        2614     1241        598   \n4            Valencia       82   3386        2664     1187        616   \n5     Athletic Bilbao       86   3368        2762     1209        633   \n..                ...      ...    ...         ...      ...        ...   \n57              Xerez        1     34          38        8         10   \n58             Condal        1     22          30        7          8   \n59    Atletico Tetuan        1     19          30        7          5   \n60   Cultural Leonesa        1     14          30        5          4   \n61             Girona        1      0           0        0          0   \n\n    GamesLost GoalsFor GoalsAgainst Champion Runner-up Third Fourth Fifth  \\\nPos                                                                         \n1         563     5947         3140       33        23     8      8     3   \n2         608     5900         3114       25        25    12     12     4   \n3         775     4534         3309       10         8    16      9     7   \n4         861     4398         3469        6         6    10     11    10   \n5         920     4631         3700        8         7    10      5     8   \n..        ...      ...          ...      ...       ...   ...    ...   ...   \n57         20       38           66        0         0     0      0     0   \n58         15       37           57        0         0     0      0     0   \n59         18       51           85        0         0     0      0     0   \n60         21       34           65        0         0     0      0     0   \n61          0        0            0        0         0     0      0     0   \n\n    Sixth   T    Debut Last App  BestPosition  \nPos                                            \n1       4  79     1929     1929             1  \n2       6  83     1929     1929             1  \n3       6  56     1929  2002-03             1  \n4       7  50  1931-32  1987-88             1  \n5      10  49     1929     1929             1  \n..    ...  ..      ...      ...           ...  \n57      0   0  2009-10  2009-10            20  \n58      0   0  1956-57  1956-57            16  \n59      0   0  1951-52  1951-52            16  \n60      0   0  1955-56  1955-56            15  \n61      0   0  2017-18  2017-18             9  \n\n[61 rows x 19 columns]",
      "text/html": "<div>\n<style scoped>\n    .dataframe tbody tr th:only-of-type {\n        vertical-align: middle;\n    }\n\n    .dataframe tbody tr th {\n        vertical-align: top;\n    }\n\n    .dataframe thead th {\n        text-align: right;\n    }\n</style>\n<table border=\"1\" class=\"dataframe\">\n  <thead>\n    <tr style=\"text-align: right;\">\n      <th></th>\n      <th>Team</th>\n      <th>Seasons</th>\n      <th>Points</th>\n      <th>GamesPlayed</th>\n      <th>GamesWon</th>\n      <th>GamesDrawn</th>\n      <th>GamesLost</th>\n      <th>GoalsFor</th>\n      <th>GoalsAgainst</th>\n      <th>Champion</th>\n      <th>Runner-up</th>\n      <th>Third</th>\n      <th>Fourth</th>\n      <th>Fifth</th>\n      <th>Sixth</th>\n      <th>T</th>\n      <th>Debut</th>\n      <th>Last App</th>\n      <th>BestPosition</th>\n    </tr>\n    <tr>\n      <th>Pos</th>\n      <th></th>\n      <th></th>\n      <th></th>\n      <th></th>\n      <th></th>\n      <th></th>\n      <th></th>\n      <th></th>\n      <th></th>\n      <th></th>\n      <th></th>\n      <th></th>\n      <th></th>\n      <th></th>\n      <th></th>\n      <th></th>\n      <th></th>\n      <th></th>\n      <th></th>\n    </tr>\n  </thead>\n  <tbody>\n    <tr>\n      <th>1</th>\n      <td>Real Madrid</td>\n      <td>86</td>\n      <td>4385</td>\n      <td>2762</td>\n      <td>1647</td>\n      <td>552</td>\n      <td>563</td>\n      <td>5947</td>\n      <td>3140</td>\n      <td>33</td>\n      <td>23</td>\n      <td>8</td>\n      <td>8</td>\n      <td>3</td>\n      <td>4</td>\n      <td>79</td>\n      <td>1929</td>\n      <td>1929</td>\n      <td>1</td>\n    </tr>\n    <tr>\n      <th>2</th>\n      <td>Barcelona</td>\n      <td>86</td>\n      <td>4262</td>\n      <td>2762</td>\n      <td>1581</td>\n      <td>573</td>\n      <td>608</td>\n      <td>5900</td>\n      <td>3114</td>\n      <td>25</td>\n      <td>25</td>\n      <td>12</td>\n      <td>12</td>\n      <td>4</td>\n      <td>6</td>\n      <td>83</td>\n      <td>1929</td>\n      <td>1929</td>\n      <td>1</td>\n    </tr>\n    <tr>\n      <th>3</th>\n      <td>Atletico Madrid</td>\n      <td>80</td>\n      <td>3442</td>\n      <td>2614</td>\n      <td>1241</td>\n      <td>598</td>\n      <td>775</td>\n      <td>4534</td>\n      <td>3309</td>\n      <td>10</td>\n      <td>8</td>\n      <td>16</td>\n      <td>9</td>\n      <td>7</td>\n      <td>6</td>\n      <td>56</td>\n      <td>1929</td>\n      <td>2002-03</td>\n      <td>1</td>\n    </tr>\n    <tr>\n      <th>4</th>\n      <td>Valencia</td>\n      <td>82</td>\n      <td>3386</td>\n      <td>2664</td>\n      <td>1187</td>\n      <td>616</td>\n      <td>861</td>\n      <td>4398</td>\n      <td>3469</td>\n      <td>6</td>\n      <td>6</td>\n      <td>10</td>\n      <td>11</td>\n      <td>10</td>\n      <td>7</td>\n      <td>50</td>\n      <td>1931-32</td>\n      <td>1987-88</td>\n      <td>1</td>\n    </tr>\n    <tr>\n      <th>5</th>\n      <td>Athletic Bilbao</td>\n      <td>86</td>\n      <td>3368</td>\n      <td>2762</td>\n      <td>1209</td>\n      <td>633</td>\n      <td>920</td>\n      <td>4631</td>\n      <td>3700</td>\n      <td>8</td>\n      <td>7</td>\n      <td>10</td>\n      <td>5</td>\n      <td>8</td>\n      <td>10</td>\n      <td>49</td>\n      <td>1929</td>\n      <td>1929</td>\n      <td>1</td>\n    </tr>\n    <tr>\n      <th>...</th>\n      <td>...</td>\n      <td>...</td>\n      <td>...</td>\n      <td>...</td>\n      <td>...</td>\n      <td>...</td>\n      <td>...</td>\n      <td>...</td>\n      <td>...</td>\n      <td>...</td>\n      <td>...</td>\n      <td>...</td>\n      <td>...</td>\n      <td>...</td>\n      <td>...</td>\n      <td>...</td>\n      <td>...</td>\n      <td>...</td>\n      <td>...</td>\n    </tr>\n    <tr>\n      <th>57</th>\n      <td>Xerez</td>\n      <td>1</td>\n      <td>34</td>\n      <td>38</td>\n      <td>8</td>\n      <td>10</td>\n      <td>20</td>\n      <td>38</td>\n      <td>66</td>\n      <td>0</td>\n      <td>0</td>\n      <td>0</td>\n      <td>0</td>\n      <td>0</td>\n      <td>0</td>\n      <td>0</td>\n      <td>2009-10</td>\n      <td>2009-10</td>\n      <td>20</td>\n    </tr>\n    <tr>\n      <th>58</th>\n      <td>Condal</td>\n      <td>1</td>\n      <td>22</td>\n      <td>30</td>\n      <td>7</td>\n      <td>8</td>\n      <td>15</td>\n      <td>37</td>\n      <td>57</td>\n      <td>0</td>\n      <td>0</td>\n      <td>0</td>\n      <td>0</td>\n      <td>0</td>\n      <td>0</td>\n      <td>0</td>\n      <td>1956-57</td>\n      <td>1956-57</td>\n      <td>16</td>\n    </tr>\n    <tr>\n      <th>59</th>\n      <td>Atletico Tetuan</td>\n      <td>1</td>\n      <td>19</td>\n      <td>30</td>\n      <td>7</td>\n      <td>5</td>\n      <td>18</td>\n      <td>51</td>\n      <td>85</td>\n      <td>0</td>\n      <td>0</td>\n      <td>0</td>\n      <td>0</td>\n      <td>0</td>\n      <td>0</td>\n      <td>0</td>\n      <td>1951-52</td>\n      <td>1951-52</td>\n      <td>16</td>\n    </tr>\n    <tr>\n      <th>60</th>\n      <td>Cultural Leonesa</td>\n      <td>1</td>\n      <td>14</td>\n      <td>30</td>\n      <td>5</td>\n      <td>4</td>\n      <td>21</td>\n      <td>34</td>\n      <td>65</td>\n      <td>0</td>\n      <td>0</td>\n      <td>0</td>\n      <td>0</td>\n      <td>0</td>\n      <td>0</td>\n      <td>0</td>\n      <td>1955-56</td>\n      <td>1955-56</td>\n      <td>15</td>\n    </tr>\n    <tr>\n      <th>61</th>\n      <td>Girona</td>\n      <td>1</td>\n      <td>0</td>\n      <td>0</td>\n      <td>0</td>\n      <td>0</td>\n      <td>0</td>\n      <td>0</td>\n      <td>0</td>\n      <td>0</td>\n      <td>0</td>\n      <td>0</td>\n      <td>0</td>\n      <td>0</td>\n      <td>0</td>\n      <td>0</td>\n      <td>2017-18</td>\n      <td>2017-18</td>\n      <td>9</td>\n    </tr>\n  </tbody>\n</table>\n<p>61 rows × 19 columns</p>\n</div>"
     },
     "metadata": {},
     "execution_count": 99
    }
   ],
   "source": [
    "data"
   ]
  },
  {
   "cell_type": "code",
   "execution_count": 100,
   "metadata": {},
   "outputs": [
    {
     "output_type": "execute_result",
     "data": {
      "text/plain": "                 Team  Seasons Points GamesPlayed GamesWon GamesDrawn  \\\nPos                                                                     \n41          Burgos CF        6    168         204       59         50   \n42         Pontevedra        6    150         180       53         44   \n50           Alcoyano        4     76         108       30         16   \n51               Jaen        3     71          90       29         13   \n58             Condal        1     22          30        7          8   \n59    Atletico Tetuan        1     19          30        7          5   \n60   Cultural Leonesa        1     14          30        5          4   \n\n    GamesLost GoalsFor GoalsAgainst Champion Runner-up Third Fourth Fifth  \\\nPos                                                                         \n41         95      216          310        0         0     0      0     0   \n42         83      165          221        0         0     0      0     0   \n50         62      145          252        0         0     0      0     0   \n51         48      121          183        0         0     0      0     0   \n58         15       37           57        0         0     0      0     0   \n59         18       51           85        0         0     0      0     0   \n60         21       34           65        0         0     0      0     0   \n\n    Sixth  T    Debut Last App  BestPosition  \nPos                                           \n41      0  0  1971-72  1979-80            12  \n42      0  0  1963-64  1969-70             7  \n50      0  0  1945-46  1950-51            10  \n51      0  0  1953-54  1957-58            14  \n58      0  0  1956-57  1956-57            16  \n59      0  0  1951-52  1951-52            16  \n60      0  0  1955-56  1955-56            15  ",
      "text/html": "<div>\n<style scoped>\n    .dataframe tbody tr th:only-of-type {\n        vertical-align: middle;\n    }\n\n    .dataframe tbody tr th {\n        vertical-align: top;\n    }\n\n    .dataframe thead th {\n        text-align: right;\n    }\n</style>\n<table border=\"1\" class=\"dataframe\">\n  <thead>\n    <tr style=\"text-align: right;\">\n      <th></th>\n      <th>Team</th>\n      <th>Seasons</th>\n      <th>Points</th>\n      <th>GamesPlayed</th>\n      <th>GamesWon</th>\n      <th>GamesDrawn</th>\n      <th>GamesLost</th>\n      <th>GoalsFor</th>\n      <th>GoalsAgainst</th>\n      <th>Champion</th>\n      <th>Runner-up</th>\n      <th>Third</th>\n      <th>Fourth</th>\n      <th>Fifth</th>\n      <th>Sixth</th>\n      <th>T</th>\n      <th>Debut</th>\n      <th>Last App</th>\n      <th>BestPosition</th>\n    </tr>\n    <tr>\n      <th>Pos</th>\n      <th></th>\n      <th></th>\n      <th></th>\n      <th></th>\n      <th></th>\n      <th></th>\n      <th></th>\n      <th></th>\n      <th></th>\n      <th></th>\n      <th></th>\n      <th></th>\n      <th></th>\n      <th></th>\n      <th></th>\n      <th></th>\n      <th></th>\n      <th></th>\n      <th></th>\n    </tr>\n  </thead>\n  <tbody>\n    <tr>\n      <th>41</th>\n      <td>Burgos CF</td>\n      <td>6</td>\n      <td>168</td>\n      <td>204</td>\n      <td>59</td>\n      <td>50</td>\n      <td>95</td>\n      <td>216</td>\n      <td>310</td>\n      <td>0</td>\n      <td>0</td>\n      <td>0</td>\n      <td>0</td>\n      <td>0</td>\n      <td>0</td>\n      <td>0</td>\n      <td>1971-72</td>\n      <td>1979-80</td>\n      <td>12</td>\n    </tr>\n    <tr>\n      <th>42</th>\n      <td>Pontevedra</td>\n      <td>6</td>\n      <td>150</td>\n      <td>180</td>\n      <td>53</td>\n      <td>44</td>\n      <td>83</td>\n      <td>165</td>\n      <td>221</td>\n      <td>0</td>\n      <td>0</td>\n      <td>0</td>\n      <td>0</td>\n      <td>0</td>\n      <td>0</td>\n      <td>0</td>\n      <td>1963-64</td>\n      <td>1969-70</td>\n      <td>7</td>\n    </tr>\n    <tr>\n      <th>50</th>\n      <td>Alcoyano</td>\n      <td>4</td>\n      <td>76</td>\n      <td>108</td>\n      <td>30</td>\n      <td>16</td>\n      <td>62</td>\n      <td>145</td>\n      <td>252</td>\n      <td>0</td>\n      <td>0</td>\n      <td>0</td>\n      <td>0</td>\n      <td>0</td>\n      <td>0</td>\n      <td>0</td>\n      <td>1945-46</td>\n      <td>1950-51</td>\n      <td>10</td>\n    </tr>\n    <tr>\n      <th>51</th>\n      <td>Jaen</td>\n      <td>3</td>\n      <td>71</td>\n      <td>90</td>\n      <td>29</td>\n      <td>13</td>\n      <td>48</td>\n      <td>121</td>\n      <td>183</td>\n      <td>0</td>\n      <td>0</td>\n      <td>0</td>\n      <td>0</td>\n      <td>0</td>\n      <td>0</td>\n      <td>0</td>\n      <td>1953-54</td>\n      <td>1957-58</td>\n      <td>14</td>\n    </tr>\n    <tr>\n      <th>58</th>\n      <td>Condal</td>\n      <td>1</td>\n      <td>22</td>\n      <td>30</td>\n      <td>7</td>\n      <td>8</td>\n      <td>15</td>\n      <td>37</td>\n      <td>57</td>\n      <td>0</td>\n      <td>0</td>\n      <td>0</td>\n      <td>0</td>\n      <td>0</td>\n      <td>0</td>\n      <td>0</td>\n      <td>1956-57</td>\n      <td>1956-57</td>\n      <td>16</td>\n    </tr>\n    <tr>\n      <th>59</th>\n      <td>Atletico Tetuan</td>\n      <td>1</td>\n      <td>19</td>\n      <td>30</td>\n      <td>7</td>\n      <td>5</td>\n      <td>18</td>\n      <td>51</td>\n      <td>85</td>\n      <td>0</td>\n      <td>0</td>\n      <td>0</td>\n      <td>0</td>\n      <td>0</td>\n      <td>0</td>\n      <td>0</td>\n      <td>1951-52</td>\n      <td>1951-52</td>\n      <td>16</td>\n    </tr>\n    <tr>\n      <th>60</th>\n      <td>Cultural Leonesa</td>\n      <td>1</td>\n      <td>14</td>\n      <td>30</td>\n      <td>5</td>\n      <td>4</td>\n      <td>21</td>\n      <td>34</td>\n      <td>65</td>\n      <td>0</td>\n      <td>0</td>\n      <td>0</td>\n      <td>0</td>\n      <td>0</td>\n      <td>0</td>\n      <td>0</td>\n      <td>1955-56</td>\n      <td>1955-56</td>\n      <td>15</td>\n    </tr>\n  </tbody>\n</table>\n</div>"
     },
     "metadata": {},
     "execution_count": 100
    }
   ],
   "source": [
    "data[(data['Debut'] > '1930') & (data['Last App'] < '1980')]"
   ]
  },
  {
   "cell_type": "code",
   "execution_count": null,
   "metadata": {},
   "outputs": [],
   "source": []
  }
 ],
 "metadata": {
  "language_info": {
   "codemirror_mode": {
    "name": "ipython",
    "version": 3
   },
   "file_extension": ".py",
   "mimetype": "text/x-python",
   "name": "python",
   "nbconvert_exporter": "python",
   "pygments_lexer": "ipython3",
   "version": "3.8.3-final"
  },
  "orig_nbformat": 2,
  "kernelspec": {
   "name": "python38364bit5147b5d7ec7f4a3aa2a762252c0a7cb3",
   "display_name": "Python 3.8.3 64-bit"
  }
 },
 "nbformat": 4,
 "nbformat_minor": 2
}