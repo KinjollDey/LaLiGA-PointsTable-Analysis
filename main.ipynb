{
 "cells": [
  {
   "cell_type": "markdown",
   "metadata": {},
   "source": [
    "# LaLiga Assignment\n"
   ]
  },
  {
   "cell_type": "markdown",
   "metadata": {},
   "source": [
    "Think of yourself, currently working as a Business analyst in one of the top sports company. The senior management team has asked you to come up with metrics with which they can gauge which team will win the upcoming La Liga cup (Football tournament).\n",
    "\n",
    "The data set contains information on all the teams so far participated in all the past tournaments. It has data about how many goals each team scored, conceded, how many times they came within first 6 positions, how many seasons they have qualified, their best position in the past etc."
   ]
  },
  {
   "cell_type": "markdown",
   "metadata": {},
   "source": [
    "### 1.Read the data set and replace dashes with 0 to make sure you can perform arithmetic operations on the data. (2.5 points)"
   ]
  },
  {
   "cell_type": "code",
   "execution_count": 2,
   "metadata": {},
   "outputs": [],
   "source": [
    "import numpy as np\n",
    "import pandas as pd"
   ]
  },
  {
   "cell_type": "code",
   "execution_count": 3,
   "metadata": {},
   "outputs": [],
   "source": [
    "## Data Inport\n",
    "data = pd.read_csv('Laliga.csv', header = 1,\n",
    "index_col = 0, parse_dates= True)"
   ]
  },
  {
   "cell_type": "code",
   "execution_count": 4,
   "metadata": {},
   "outputs": [
    {
     "output_type": "execute_result",
     "data": {
      "text/plain": "(61, 19)"
     },
     "metadata": {},
     "execution_count": 4
    }
   ],
   "source": [
    "## Overview\n",
    "data.shape\n"
   ]
  },
  {
   "cell_type": "code",
   "execution_count": 5,
   "metadata": {},
   "outputs": [
    {
     "output_type": "execute_result",
     "data": {
      "text/plain": "1159"
     },
     "metadata": {},
     "execution_count": 5
    }
   ],
   "source": [
    "data.size"
   ]
  },
  {
   "cell_type": "code",
   "execution_count": 6,
   "metadata": {},
   "outputs": [
    {
     "output_type": "execute_result",
     "data": {
      "text/plain": "                Team  Seasons Points GamesPlayed GamesWon GamesDrawn  \\\nPos                                                                    \n1        Real Madrid       86   4385        2762     1647        552   \n2          Barcelona       86   4262        2762     1581        573   \n3    Atletico Madrid       80   3442        2614     1241        598   \n4           Valencia       82   3386        2664     1187        616   \n5    Athletic Bilbao       86   3368        2762     1209        633   \n\n    GamesLost GoalsFor GoalsAgainst Champion Runner-up Third Fourth Fifth  \\\nPos                                                                         \n1         563     5947         3140       33        23     8      8     3   \n2         608     5900         3114       25        25    12     12     4   \n3         775     4534         3309       10         8    16      9     7   \n4         861     4398         3469        6         6    10     11    10   \n5         920     4631         3700        8         7    10      5     8   \n\n    Sixth   T    Debut Since/LastApp  BestPosition  \nPos                                                 \n1       4  79     1929          1929             1  \n2       6  83     1929          1929             1  \n3       6  56     1929       2002-03             1  \n4       7  50  1931-32       1987-88             1  \n5      10  49     1929          1929             1  ",
      "text/html": "<div>\n<style scoped>\n    .dataframe tbody tr th:only-of-type {\n        vertical-align: middle;\n    }\n\n    .dataframe tbody tr th {\n        vertical-align: top;\n    }\n\n    .dataframe thead th {\n        text-align: right;\n    }\n</style>\n<table border=\"1\" class=\"dataframe\">\n  <thead>\n    <tr style=\"text-align: right;\">\n      <th></th>\n      <th>Team</th>\n      <th>Seasons</th>\n      <th>Points</th>\n      <th>GamesPlayed</th>\n      <th>GamesWon</th>\n      <th>GamesDrawn</th>\n      <th>GamesLost</th>\n      <th>GoalsFor</th>\n      <th>GoalsAgainst</th>\n      <th>Champion</th>\n      <th>Runner-up</th>\n      <th>Third</th>\n      <th>Fourth</th>\n      <th>Fifth</th>\n      <th>Sixth</th>\n      <th>T</th>\n      <th>Debut</th>\n      <th>Since/LastApp</th>\n      <th>BestPosition</th>\n    </tr>\n    <tr>\n      <th>Pos</th>\n      <th></th>\n      <th></th>\n      <th></th>\n      <th></th>\n      <th></th>\n      <th></th>\n      <th></th>\n      <th></th>\n      <th></th>\n      <th></th>\n      <th></th>\n      <th></th>\n      <th></th>\n      <th></th>\n      <th></th>\n      <th></th>\n      <th></th>\n      <th></th>\n      <th></th>\n    </tr>\n  </thead>\n  <tbody>\n    <tr>\n      <th>1</th>\n      <td>Real Madrid</td>\n      <td>86</td>\n      <td>4385</td>\n      <td>2762</td>\n      <td>1647</td>\n      <td>552</td>\n      <td>563</td>\n      <td>5947</td>\n      <td>3140</td>\n      <td>33</td>\n      <td>23</td>\n      <td>8</td>\n      <td>8</td>\n      <td>3</td>\n      <td>4</td>\n      <td>79</td>\n      <td>1929</td>\n      <td>1929</td>\n      <td>1</td>\n    </tr>\n    <tr>\n      <th>2</th>\n      <td>Barcelona</td>\n      <td>86</td>\n      <td>4262</td>\n      <td>2762</td>\n      <td>1581</td>\n      <td>573</td>\n      <td>608</td>\n      <td>5900</td>\n      <td>3114</td>\n      <td>25</td>\n      <td>25</td>\n      <td>12</td>\n      <td>12</td>\n      <td>4</td>\n      <td>6</td>\n      <td>83</td>\n      <td>1929</td>\n      <td>1929</td>\n      <td>1</td>\n    </tr>\n    <tr>\n      <th>3</th>\n      <td>Atletico Madrid</td>\n      <td>80</td>\n      <td>3442</td>\n      <td>2614</td>\n      <td>1241</td>\n      <td>598</td>\n      <td>775</td>\n      <td>4534</td>\n      <td>3309</td>\n      <td>10</td>\n      <td>8</td>\n      <td>16</td>\n      <td>9</td>\n      <td>7</td>\n      <td>6</td>\n      <td>56</td>\n      <td>1929</td>\n      <td>2002-03</td>\n      <td>1</td>\n    </tr>\n    <tr>\n      <th>4</th>\n      <td>Valencia</td>\n      <td>82</td>\n      <td>3386</td>\n      <td>2664</td>\n      <td>1187</td>\n      <td>616</td>\n      <td>861</td>\n      <td>4398</td>\n      <td>3469</td>\n      <td>6</td>\n      <td>6</td>\n      <td>10</td>\n      <td>11</td>\n      <td>10</td>\n      <td>7</td>\n      <td>50</td>\n      <td>1931-32</td>\n      <td>1987-88</td>\n      <td>1</td>\n    </tr>\n    <tr>\n      <th>5</th>\n      <td>Athletic Bilbao</td>\n      <td>86</td>\n      <td>3368</td>\n      <td>2762</td>\n      <td>1209</td>\n      <td>633</td>\n      <td>920</td>\n      <td>4631</td>\n      <td>3700</td>\n      <td>8</td>\n      <td>7</td>\n      <td>10</td>\n      <td>5</td>\n      <td>8</td>\n      <td>10</td>\n      <td>49</td>\n      <td>1929</td>\n      <td>1929</td>\n      <td>1</td>\n    </tr>\n  </tbody>\n</table>\n</div>"
     },
     "metadata": {},
     "execution_count": 6
    }
   ],
   "source": [
    "data.head()"
   ]
  },
  {
   "cell_type": "code",
   "execution_count": 7,
   "metadata": {},
   "outputs": [],
   "source": [
    "data = data.rename(columns = {'Since/LastApp':'Last App'})"
   ]
  },
  {
   "cell_type": "code",
   "execution_count": 8,
   "metadata": {},
   "outputs": [
    {
     "output_type": "execute_result",
     "data": {
      "text/plain": "                 Team  Seasons Points GamesPlayed GamesWon GamesDrawn  \\\nPos                                                                     \n57              Xerez        1     34          38        8         10   \n58             Condal        1     22          30        7          8   \n59    Atletico Tetuan        1     19          30        7          5   \n60   Cultural Leonesa        1     14          30        5          4   \n61             Girona        1      -           -        -          -   \n\n    GamesLost GoalsFor GoalsAgainst Champion Runner-up Third Fourth Fifth  \\\nPos                                                                         \n57         20       38           66        -         -     -      -     -   \n58         15       37           57        -         -     -      -     -   \n59         18       51           85        -         -     -      -     -   \n60         21       34           65        -         -     -      -     -   \n61          -        -            -        -         -     -      -     -   \n\n    Sixth  T    Debut Last App  BestPosition  \nPos                                           \n57      -  -  2009-10  2009-10            20  \n58      -  -  1956-57  1956-57            16  \n59      -  -  1951-52  1951-52            16  \n60      -  -  1955-56  1955-56            15  \n61      -  -  2017-18  2017-18             9  ",
      "text/html": "<div>\n<style scoped>\n    .dataframe tbody tr th:only-of-type {\n        vertical-align: middle;\n    }\n\n    .dataframe tbody tr th {\n        vertical-align: top;\n    }\n\n    .dataframe thead th {\n        text-align: right;\n    }\n</style>\n<table border=\"1\" class=\"dataframe\">\n  <thead>\n    <tr style=\"text-align: right;\">\n      <th></th>\n      <th>Team</th>\n      <th>Seasons</th>\n      <th>Points</th>\n      <th>GamesPlayed</th>\n      <th>GamesWon</th>\n      <th>GamesDrawn</th>\n      <th>GamesLost</th>\n      <th>GoalsFor</th>\n      <th>GoalsAgainst</th>\n      <th>Champion</th>\n      <th>Runner-up</th>\n      <th>Third</th>\n      <th>Fourth</th>\n      <th>Fifth</th>\n      <th>Sixth</th>\n      <th>T</th>\n      <th>Debut</th>\n      <th>Last App</th>\n      <th>BestPosition</th>\n    </tr>\n    <tr>\n      <th>Pos</th>\n      <th></th>\n      <th></th>\n      <th></th>\n      <th></th>\n      <th></th>\n      <th></th>\n      <th></th>\n      <th></th>\n      <th></th>\n      <th></th>\n      <th></th>\n      <th></th>\n      <th></th>\n      <th></th>\n      <th></th>\n      <th></th>\n      <th></th>\n      <th></th>\n      <th></th>\n    </tr>\n  </thead>\n  <tbody>\n    <tr>\n      <th>57</th>\n      <td>Xerez</td>\n      <td>1</td>\n      <td>34</td>\n      <td>38</td>\n      <td>8</td>\n      <td>10</td>\n      <td>20</td>\n      <td>38</td>\n      <td>66</td>\n      <td>-</td>\n      <td>-</td>\n      <td>-</td>\n      <td>-</td>\n      <td>-</td>\n      <td>-</td>\n      <td>-</td>\n      <td>2009-10</td>\n      <td>2009-10</td>\n      <td>20</td>\n    </tr>\n    <tr>\n      <th>58</th>\n      <td>Condal</td>\n      <td>1</td>\n      <td>22</td>\n      <td>30</td>\n      <td>7</td>\n      <td>8</td>\n      <td>15</td>\n      <td>37</td>\n      <td>57</td>\n      <td>-</td>\n      <td>-</td>\n      <td>-</td>\n      <td>-</td>\n      <td>-</td>\n      <td>-</td>\n      <td>-</td>\n      <td>1956-57</td>\n      <td>1956-57</td>\n      <td>16</td>\n    </tr>\n    <tr>\n      <th>59</th>\n      <td>Atletico Tetuan</td>\n      <td>1</td>\n      <td>19</td>\n      <td>30</td>\n      <td>7</td>\n      <td>5</td>\n      <td>18</td>\n      <td>51</td>\n      <td>85</td>\n      <td>-</td>\n      <td>-</td>\n      <td>-</td>\n      <td>-</td>\n      <td>-</td>\n      <td>-</td>\n      <td>-</td>\n      <td>1951-52</td>\n      <td>1951-52</td>\n      <td>16</td>\n    </tr>\n    <tr>\n      <th>60</th>\n      <td>Cultural Leonesa</td>\n      <td>1</td>\n      <td>14</td>\n      <td>30</td>\n      <td>5</td>\n      <td>4</td>\n      <td>21</td>\n      <td>34</td>\n      <td>65</td>\n      <td>-</td>\n      <td>-</td>\n      <td>-</td>\n      <td>-</td>\n      <td>-</td>\n      <td>-</td>\n      <td>-</td>\n      <td>1955-56</td>\n      <td>1955-56</td>\n      <td>15</td>\n    </tr>\n    <tr>\n      <th>61</th>\n      <td>Girona</td>\n      <td>1</td>\n      <td>-</td>\n      <td>-</td>\n      <td>-</td>\n      <td>-</td>\n      <td>-</td>\n      <td>-</td>\n      <td>-</td>\n      <td>-</td>\n      <td>-</td>\n      <td>-</td>\n      <td>-</td>\n      <td>-</td>\n      <td>-</td>\n      <td>-</td>\n      <td>2017-18</td>\n      <td>2017-18</td>\n      <td>9</td>\n    </tr>\n  </tbody>\n</table>\n</div>"
     },
     "metadata": {},
     "execution_count": 8
    }
   ],
   "source": [
    "data.tail()"
   ]
  },
  {
   "cell_type": "markdown",
   "metadata": {},
   "source": [
    "## Processing\n"
   ]
  },
  {
   "cell_type": "code",
   "execution_count": 9,
   "metadata": {},
   "outputs": [
    {
     "output_type": "execute_result",
     "data": {
      "text/plain": "      Team  Seasons  Points  GamesPlayed  GamesWon  GamesDrawn  GamesLost  \\\nPos                                                                         \n57   False    False   False        False     False       False      False   \n58   False    False   False        False     False       False      False   \n59   False    False   False        False     False       False      False   \n60   False    False   False        False     False       False      False   \n61   False    False   False        False     False       False      False   \n\n     GoalsFor  GoalsAgainst  Champion  Runner-up  Third  Fourth  Fifth  Sixth  \\\nPos                                                                             \n57      False         False     False      False  False   False  False  False   \n58      False         False     False      False  False   False  False  False   \n59      False         False     False      False  False   False  False  False   \n60      False         False     False      False  False   False  False  False   \n61      False         False     False      False  False   False  False  False   \n\n         T  Debut  Last App  BestPosition  \nPos                                        \n57   False  False     False         False  \n58   False  False     False         False  \n59   False  False     False         False  \n60   False  False     False         False  \n61   False  False     False         False  ",
      "text/html": "<div>\n<style scoped>\n    .dataframe tbody tr th:only-of-type {\n        vertical-align: middle;\n    }\n\n    .dataframe tbody tr th {\n        vertical-align: top;\n    }\n\n    .dataframe thead th {\n        text-align: right;\n    }\n</style>\n<table border=\"1\" class=\"dataframe\">\n  <thead>\n    <tr style=\"text-align: right;\">\n      <th></th>\n      <th>Team</th>\n      <th>Seasons</th>\n      <th>Points</th>\n      <th>GamesPlayed</th>\n      <th>GamesWon</th>\n      <th>GamesDrawn</th>\n      <th>GamesLost</th>\n      <th>GoalsFor</th>\n      <th>GoalsAgainst</th>\n      <th>Champion</th>\n      <th>Runner-up</th>\n      <th>Third</th>\n      <th>Fourth</th>\n      <th>Fifth</th>\n      <th>Sixth</th>\n      <th>T</th>\n      <th>Debut</th>\n      <th>Last App</th>\n      <th>BestPosition</th>\n    </tr>\n    <tr>\n      <th>Pos</th>\n      <th></th>\n      <th></th>\n      <th></th>\n      <th></th>\n      <th></th>\n      <th></th>\n      <th></th>\n      <th></th>\n      <th></th>\n      <th></th>\n      <th></th>\n      <th></th>\n      <th></th>\n      <th></th>\n      <th></th>\n      <th></th>\n      <th></th>\n      <th></th>\n      <th></th>\n    </tr>\n  </thead>\n  <tbody>\n    <tr>\n      <th>57</th>\n      <td>False</td>\n      <td>False</td>\n      <td>False</td>\n      <td>False</td>\n      <td>False</td>\n      <td>False</td>\n      <td>False</td>\n      <td>False</td>\n      <td>False</td>\n      <td>False</td>\n      <td>False</td>\n      <td>False</td>\n      <td>False</td>\n      <td>False</td>\n      <td>False</td>\n      <td>False</td>\n      <td>False</td>\n      <td>False</td>\n      <td>False</td>\n    </tr>\n    <tr>\n      <th>58</th>\n      <td>False</td>\n      <td>False</td>\n      <td>False</td>\n      <td>False</td>\n      <td>False</td>\n      <td>False</td>\n      <td>False</td>\n      <td>False</td>\n      <td>False</td>\n      <td>False</td>\n      <td>False</td>\n      <td>False</td>\n      <td>False</td>\n      <td>False</td>\n      <td>False</td>\n      <td>False</td>\n      <td>False</td>\n      <td>False</td>\n      <td>False</td>\n    </tr>\n    <tr>\n      <th>59</th>\n      <td>False</td>\n      <td>False</td>\n      <td>False</td>\n      <td>False</td>\n      <td>False</td>\n      <td>False</td>\n      <td>False</td>\n      <td>False</td>\n      <td>False</td>\n      <td>False</td>\n      <td>False</td>\n      <td>False</td>\n      <td>False</td>\n      <td>False</td>\n      <td>False</td>\n      <td>False</td>\n      <td>False</td>\n      <td>False</td>\n      <td>False</td>\n    </tr>\n    <tr>\n      <th>60</th>\n      <td>False</td>\n      <td>False</td>\n      <td>False</td>\n      <td>False</td>\n      <td>False</td>\n      <td>False</td>\n      <td>False</td>\n      <td>False</td>\n      <td>False</td>\n      <td>False</td>\n      <td>False</td>\n      <td>False</td>\n      <td>False</td>\n      <td>False</td>\n      <td>False</td>\n      <td>False</td>\n      <td>False</td>\n      <td>False</td>\n      <td>False</td>\n    </tr>\n    <tr>\n      <th>61</th>\n      <td>False</td>\n      <td>False</td>\n      <td>False</td>\n      <td>False</td>\n      <td>False</td>\n      <td>False</td>\n      <td>False</td>\n      <td>False</td>\n      <td>False</td>\n      <td>False</td>\n      <td>False</td>\n      <td>False</td>\n      <td>False</td>\n      <td>False</td>\n      <td>False</td>\n      <td>False</td>\n      <td>False</td>\n      <td>False</td>\n      <td>False</td>\n    </tr>\n  </tbody>\n</table>\n</div>"
     },
     "metadata": {},
     "execution_count": 9
    }
   ],
   "source": [
    "## checking for NUll Values\n",
    "\n",
    "data.isnull().head()\n",
    "data.isnull().tail()"
   ]
  },
  {
   "cell_type": "code",
   "execution_count": 10,
   "metadata": {},
   "outputs": [
    {
     "output_type": "execute_result",
     "data": {
      "text/plain": "Index(['Team', 'Seasons', 'Points', 'GamesPlayed', 'GamesWon', 'GamesDrawn',\n       'GamesLost', 'GoalsFor', 'GoalsAgainst', 'Champion', 'Runner-up',\n       'Third', 'Fourth', 'Fifth', 'Sixth', 'T', 'Debut', 'Last App',\n       'BestPosition'],\n      dtype='object')"
     },
     "metadata": {},
     "execution_count": 10
    }
   ],
   "source": [
    "## '-' has to be replaced by 0\n",
    "columns = data.columns\n",
    "columns"
   ]
  },
  {
   "cell_type": "code",
   "execution_count": 11,
   "metadata": {},
   "outputs": [
    {
     "output_type": "execute_result",
     "data": {
      "text/plain": "                Team  Seasons Points GamesPlayed GamesWon GamesDrawn  \\\nPos                                                                    \n1        Real Madrid       86   4385        2762     1647        552   \n2          Barcelona       86   4262        2762     1581        573   \n3    Atletico Madrid       80   3442        2614     1241        598   \n4           Valencia       82   3386        2664     1187        616   \n5    Athletic Bilbao       86   3368        2762     1209        633   \n\n    GamesLost GoalsFor GoalsAgainst Champion Runner-up Third Fourth Fifth  \\\nPos                                                                         \n1         563     5947         3140       33        23     8      8     3   \n2         608     5900         3114       25        25    12     12     4   \n3         775     4534         3309       10         8    16      9     7   \n4         861     4398         3469        6         6    10     11    10   \n5         920     4631         3700        8         7    10      5     8   \n\n    Sixth   T    Debut Last App  BestPosition  \nPos                                            \n1       4  79     1929     1929             1  \n2       6  83     1929     1929             1  \n3       6  56     1929  2002-03             1  \n4       7  50  1931-32  1987-88             1  \n5      10  49     1929     1929             1  ",
      "text/html": "<div>\n<style scoped>\n    .dataframe tbody tr th:only-of-type {\n        vertical-align: middle;\n    }\n\n    .dataframe tbody tr th {\n        vertical-align: top;\n    }\n\n    .dataframe thead th {\n        text-align: right;\n    }\n</style>\n<table border=\"1\" class=\"dataframe\">\n  <thead>\n    <tr style=\"text-align: right;\">\n      <th></th>\n      <th>Team</th>\n      <th>Seasons</th>\n      <th>Points</th>\n      <th>GamesPlayed</th>\n      <th>GamesWon</th>\n      <th>GamesDrawn</th>\n      <th>GamesLost</th>\n      <th>GoalsFor</th>\n      <th>GoalsAgainst</th>\n      <th>Champion</th>\n      <th>Runner-up</th>\n      <th>Third</th>\n      <th>Fourth</th>\n      <th>Fifth</th>\n      <th>Sixth</th>\n      <th>T</th>\n      <th>Debut</th>\n      <th>Last App</th>\n      <th>BestPosition</th>\n    </tr>\n    <tr>\n      <th>Pos</th>\n      <th></th>\n      <th></th>\n      <th></th>\n      <th></th>\n      <th></th>\n      <th></th>\n      <th></th>\n      <th></th>\n      <th></th>\n      <th></th>\n      <th></th>\n      <th></th>\n      <th></th>\n      <th></th>\n      <th></th>\n      <th></th>\n      <th></th>\n      <th></th>\n      <th></th>\n    </tr>\n  </thead>\n  <tbody>\n    <tr>\n      <th>1</th>\n      <td>Real Madrid</td>\n      <td>86</td>\n      <td>4385</td>\n      <td>2762</td>\n      <td>1647</td>\n      <td>552</td>\n      <td>563</td>\n      <td>5947</td>\n      <td>3140</td>\n      <td>33</td>\n      <td>23</td>\n      <td>8</td>\n      <td>8</td>\n      <td>3</td>\n      <td>4</td>\n      <td>79</td>\n      <td>1929</td>\n      <td>1929</td>\n      <td>1</td>\n    </tr>\n    <tr>\n      <th>2</th>\n      <td>Barcelona</td>\n      <td>86</td>\n      <td>4262</td>\n      <td>2762</td>\n      <td>1581</td>\n      <td>573</td>\n      <td>608</td>\n      <td>5900</td>\n      <td>3114</td>\n      <td>25</td>\n      <td>25</td>\n      <td>12</td>\n      <td>12</td>\n      <td>4</td>\n      <td>6</td>\n      <td>83</td>\n      <td>1929</td>\n      <td>1929</td>\n      <td>1</td>\n    </tr>\n    <tr>\n      <th>3</th>\n      <td>Atletico Madrid</td>\n      <td>80</td>\n      <td>3442</td>\n      <td>2614</td>\n      <td>1241</td>\n      <td>598</td>\n      <td>775</td>\n      <td>4534</td>\n      <td>3309</td>\n      <td>10</td>\n      <td>8</td>\n      <td>16</td>\n      <td>9</td>\n      <td>7</td>\n      <td>6</td>\n      <td>56</td>\n      <td>1929</td>\n      <td>2002-03</td>\n      <td>1</td>\n    </tr>\n    <tr>\n      <th>4</th>\n      <td>Valencia</td>\n      <td>82</td>\n      <td>3386</td>\n      <td>2664</td>\n      <td>1187</td>\n      <td>616</td>\n      <td>861</td>\n      <td>4398</td>\n      <td>3469</td>\n      <td>6</td>\n      <td>6</td>\n      <td>10</td>\n      <td>11</td>\n      <td>10</td>\n      <td>7</td>\n      <td>50</td>\n      <td>1931-32</td>\n      <td>1987-88</td>\n      <td>1</td>\n    </tr>\n    <tr>\n      <th>5</th>\n      <td>Athletic Bilbao</td>\n      <td>86</td>\n      <td>3368</td>\n      <td>2762</td>\n      <td>1209</td>\n      <td>633</td>\n      <td>920</td>\n      <td>4631</td>\n      <td>3700</td>\n      <td>8</td>\n      <td>7</td>\n      <td>10</td>\n      <td>5</td>\n      <td>8</td>\n      <td>10</td>\n      <td>49</td>\n      <td>1929</td>\n      <td>1929</td>\n      <td>1</td>\n    </tr>\n  </tbody>\n</table>\n</div>"
     },
     "metadata": {},
     "execution_count": 11
    }
   ],
   "source": [
    "data.head()"
   ]
  },
  {
   "cell_type": "code",
   "execution_count": 12,
   "metadata": {},
   "outputs": [],
   "source": [
    "## Replacing '-' with 0\n",
    "Correct = data['Champion'].replace('-', 0)"
   ]
  },
  {
   "cell_type": "code",
   "execution_count": 13,
   "metadata": {},
   "outputs": [],
   "source": [
    "data['Champion'] = Correct"
   ]
  },
  {
   "cell_type": "code",
   "execution_count": 14,
   "metadata": {},
   "outputs": [
    {
     "output_type": "execute_result",
     "data": {
      "text/plain": "                 Team  Seasons Points GamesPlayed GamesWon GamesDrawn  \\\nPos                                                                     \n57              Xerez        1     34          38        8         10   \n58             Condal        1     22          30        7          8   \n59    Atletico Tetuan        1     19          30        7          5   \n60   Cultural Leonesa        1     14          30        5          4   \n61             Girona        1      -           -        -          -   \n\n    GamesLost GoalsFor GoalsAgainst Champion Runner-up Third Fourth Fifth  \\\nPos                                                                         \n57         20       38           66        0         -     -      -     -   \n58         15       37           57        0         -     -      -     -   \n59         18       51           85        0         -     -      -     -   \n60         21       34           65        0         -     -      -     -   \n61          -        -            -        0         -     -      -     -   \n\n    Sixth  T    Debut Last App  BestPosition  \nPos                                           \n57      -  -  2009-10  2009-10            20  \n58      -  -  1956-57  1956-57            16  \n59      -  -  1951-52  1951-52            16  \n60      -  -  1955-56  1955-56            15  \n61      -  -  2017-18  2017-18             9  ",
      "text/html": "<div>\n<style scoped>\n    .dataframe tbody tr th:only-of-type {\n        vertical-align: middle;\n    }\n\n    .dataframe tbody tr th {\n        vertical-align: top;\n    }\n\n    .dataframe thead th {\n        text-align: right;\n    }\n</style>\n<table border=\"1\" class=\"dataframe\">\n  <thead>\n    <tr style=\"text-align: right;\">\n      <th></th>\n      <th>Team</th>\n      <th>Seasons</th>\n      <th>Points</th>\n      <th>GamesPlayed</th>\n      <th>GamesWon</th>\n      <th>GamesDrawn</th>\n      <th>GamesLost</th>\n      <th>GoalsFor</th>\n      <th>GoalsAgainst</th>\n      <th>Champion</th>\n      <th>Runner-up</th>\n      <th>Third</th>\n      <th>Fourth</th>\n      <th>Fifth</th>\n      <th>Sixth</th>\n      <th>T</th>\n      <th>Debut</th>\n      <th>Last App</th>\n      <th>BestPosition</th>\n    </tr>\n    <tr>\n      <th>Pos</th>\n      <th></th>\n      <th></th>\n      <th></th>\n      <th></th>\n      <th></th>\n      <th></th>\n      <th></th>\n      <th></th>\n      <th></th>\n      <th></th>\n      <th></th>\n      <th></th>\n      <th></th>\n      <th></th>\n      <th></th>\n      <th></th>\n      <th></th>\n      <th></th>\n      <th></th>\n    </tr>\n  </thead>\n  <tbody>\n    <tr>\n      <th>57</th>\n      <td>Xerez</td>\n      <td>1</td>\n      <td>34</td>\n      <td>38</td>\n      <td>8</td>\n      <td>10</td>\n      <td>20</td>\n      <td>38</td>\n      <td>66</td>\n      <td>0</td>\n      <td>-</td>\n      <td>-</td>\n      <td>-</td>\n      <td>-</td>\n      <td>-</td>\n      <td>-</td>\n      <td>2009-10</td>\n      <td>2009-10</td>\n      <td>20</td>\n    </tr>\n    <tr>\n      <th>58</th>\n      <td>Condal</td>\n      <td>1</td>\n      <td>22</td>\n      <td>30</td>\n      <td>7</td>\n      <td>8</td>\n      <td>15</td>\n      <td>37</td>\n      <td>57</td>\n      <td>0</td>\n      <td>-</td>\n      <td>-</td>\n      <td>-</td>\n      <td>-</td>\n      <td>-</td>\n      <td>-</td>\n      <td>1956-57</td>\n      <td>1956-57</td>\n      <td>16</td>\n    </tr>\n    <tr>\n      <th>59</th>\n      <td>Atletico Tetuan</td>\n      <td>1</td>\n      <td>19</td>\n      <td>30</td>\n      <td>7</td>\n      <td>5</td>\n      <td>18</td>\n      <td>51</td>\n      <td>85</td>\n      <td>0</td>\n      <td>-</td>\n      <td>-</td>\n      <td>-</td>\n      <td>-</td>\n      <td>-</td>\n      <td>-</td>\n      <td>1951-52</td>\n      <td>1951-52</td>\n      <td>16</td>\n    </tr>\n    <tr>\n      <th>60</th>\n      <td>Cultural Leonesa</td>\n      <td>1</td>\n      <td>14</td>\n      <td>30</td>\n      <td>5</td>\n      <td>4</td>\n      <td>21</td>\n      <td>34</td>\n      <td>65</td>\n      <td>0</td>\n      <td>-</td>\n      <td>-</td>\n      <td>-</td>\n      <td>-</td>\n      <td>-</td>\n      <td>-</td>\n      <td>1955-56</td>\n      <td>1955-56</td>\n      <td>15</td>\n    </tr>\n    <tr>\n      <th>61</th>\n      <td>Girona</td>\n      <td>1</td>\n      <td>-</td>\n      <td>-</td>\n      <td>-</td>\n      <td>-</td>\n      <td>-</td>\n      <td>-</td>\n      <td>-</td>\n      <td>0</td>\n      <td>-</td>\n      <td>-</td>\n      <td>-</td>\n      <td>-</td>\n      <td>-</td>\n      <td>-</td>\n      <td>2017-18</td>\n      <td>2017-18</td>\n      <td>9</td>\n    </tr>\n  </tbody>\n</table>\n</div>"
     },
     "metadata": {},
     "execution_count": 14
    }
   ],
   "source": [
    "data.tail() ## Working"
   ]
  },
  {
   "cell_type": "code",
   "execution_count": 15,
   "metadata": {},
   "outputs": [],
   "source": [
    "#data[columns[10:16]\n",
    "data = data[columns[:20]].replace('-', 0)\n"
   ]
  },
  {
   "cell_type": "code",
   "execution_count": 16,
   "metadata": {},
   "outputs": [
    {
     "output_type": "execute_result",
     "data": {
      "text/plain": "                 Team  Seasons Points GamesPlayed GamesWon GamesDrawn  \\\nPos                                                                     \n1         Real Madrid       86   4385        2762     1647        552   \n2           Barcelona       86   4262        2762     1581        573   \n3     Atletico Madrid       80   3442        2614     1241        598   \n4            Valencia       82   3386        2664     1187        616   \n5     Athletic Bilbao       86   3368        2762     1209        633   \n..                ...      ...    ...         ...      ...        ...   \n57              Xerez        1     34          38        8         10   \n58             Condal        1     22          30        7          8   \n59    Atletico Tetuan        1     19          30        7          5   \n60   Cultural Leonesa        1     14          30        5          4   \n61             Girona        1      0           0        0          0   \n\n    GamesLost GoalsFor GoalsAgainst Champion Runner-up Third Fourth Fifth  \\\nPos                                                                         \n1         563     5947         3140       33        23     8      8     3   \n2         608     5900         3114       25        25    12     12     4   \n3         775     4534         3309       10         8    16      9     7   \n4         861     4398         3469        6         6    10     11    10   \n5         920     4631         3700        8         7    10      5     8   \n..        ...      ...          ...      ...       ...   ...    ...   ...   \n57         20       38           66        0         0     0      0     0   \n58         15       37           57        0         0     0      0     0   \n59         18       51           85        0         0     0      0     0   \n60         21       34           65        0         0     0      0     0   \n61          0        0            0        0         0     0      0     0   \n\n    Sixth   T    Debut Last App  BestPosition  \nPos                                            \n1       4  79     1929     1929             1  \n2       6  83     1929     1929             1  \n3       6  56     1929  2002-03             1  \n4       7  50  1931-32  1987-88             1  \n5      10  49     1929     1929             1  \n..    ...  ..      ...      ...           ...  \n57      0   0  2009-10  2009-10            20  \n58      0   0  1956-57  1956-57            16  \n59      0   0  1951-52  1951-52            16  \n60      0   0  1955-56  1955-56            15  \n61      0   0  2017-18  2017-18             9  \n\n[61 rows x 19 columns]",
      "text/html": "<div>\n<style scoped>\n    .dataframe tbody tr th:only-of-type {\n        vertical-align: middle;\n    }\n\n    .dataframe tbody tr th {\n        vertical-align: top;\n    }\n\n    .dataframe thead th {\n        text-align: right;\n    }\n</style>\n<table border=\"1\" class=\"dataframe\">\n  <thead>\n    <tr style=\"text-align: right;\">\n      <th></th>\n      <th>Team</th>\n      <th>Seasons</th>\n      <th>Points</th>\n      <th>GamesPlayed</th>\n      <th>GamesWon</th>\n      <th>GamesDrawn</th>\n      <th>GamesLost</th>\n      <th>GoalsFor</th>\n      <th>GoalsAgainst</th>\n      <th>Champion</th>\n      <th>Runner-up</th>\n      <th>Third</th>\n      <th>Fourth</th>\n      <th>Fifth</th>\n      <th>Sixth</th>\n      <th>T</th>\n      <th>Debut</th>\n      <th>Last App</th>\n      <th>BestPosition</th>\n    </tr>\n    <tr>\n      <th>Pos</th>\n      <th></th>\n      <th></th>\n      <th></th>\n      <th></th>\n      <th></th>\n      <th></th>\n      <th></th>\n      <th></th>\n      <th></th>\n      <th></th>\n      <th></th>\n      <th></th>\n      <th></th>\n      <th></th>\n      <th></th>\n      <th></th>\n      <th></th>\n      <th></th>\n      <th></th>\n    </tr>\n  </thead>\n  <tbody>\n    <tr>\n      <th>1</th>\n      <td>Real Madrid</td>\n      <td>86</td>\n      <td>4385</td>\n      <td>2762</td>\n      <td>1647</td>\n      <td>552</td>\n      <td>563</td>\n      <td>5947</td>\n      <td>3140</td>\n      <td>33</td>\n      <td>23</td>\n      <td>8</td>\n      <td>8</td>\n      <td>3</td>\n      <td>4</td>\n      <td>79</td>\n      <td>1929</td>\n      <td>1929</td>\n      <td>1</td>\n    </tr>\n    <tr>\n      <th>2</th>\n      <td>Barcelona</td>\n      <td>86</td>\n      <td>4262</td>\n      <td>2762</td>\n      <td>1581</td>\n      <td>573</td>\n      <td>608</td>\n      <td>5900</td>\n      <td>3114</td>\n      <td>25</td>\n      <td>25</td>\n      <td>12</td>\n      <td>12</td>\n      <td>4</td>\n      <td>6</td>\n      <td>83</td>\n      <td>1929</td>\n      <td>1929</td>\n      <td>1</td>\n    </tr>\n    <tr>\n      <th>3</th>\n      <td>Atletico Madrid</td>\n      <td>80</td>\n      <td>3442</td>\n      <td>2614</td>\n      <td>1241</td>\n      <td>598</td>\n      <td>775</td>\n      <td>4534</td>\n      <td>3309</td>\n      <td>10</td>\n      <td>8</td>\n      <td>16</td>\n      <td>9</td>\n      <td>7</td>\n      <td>6</td>\n      <td>56</td>\n      <td>1929</td>\n      <td>2002-03</td>\n      <td>1</td>\n    </tr>\n    <tr>\n      <th>4</th>\n      <td>Valencia</td>\n      <td>82</td>\n      <td>3386</td>\n      <td>2664</td>\n      <td>1187</td>\n      <td>616</td>\n      <td>861</td>\n      <td>4398</td>\n      <td>3469</td>\n      <td>6</td>\n      <td>6</td>\n      <td>10</td>\n      <td>11</td>\n      <td>10</td>\n      <td>7</td>\n      <td>50</td>\n      <td>1931-32</td>\n      <td>1987-88</td>\n      <td>1</td>\n    </tr>\n    <tr>\n      <th>5</th>\n      <td>Athletic Bilbao</td>\n      <td>86</td>\n      <td>3368</td>\n      <td>2762</td>\n      <td>1209</td>\n      <td>633</td>\n      <td>920</td>\n      <td>4631</td>\n      <td>3700</td>\n      <td>8</td>\n      <td>7</td>\n      <td>10</td>\n      <td>5</td>\n      <td>8</td>\n      <td>10</td>\n      <td>49</td>\n      <td>1929</td>\n      <td>1929</td>\n      <td>1</td>\n    </tr>\n    <tr>\n      <th>...</th>\n      <td>...</td>\n      <td>...</td>\n      <td>...</td>\n      <td>...</td>\n      <td>...</td>\n      <td>...</td>\n      <td>...</td>\n      <td>...</td>\n      <td>...</td>\n      <td>...</td>\n      <td>...</td>\n      <td>...</td>\n      <td>...</td>\n      <td>...</td>\n      <td>...</td>\n      <td>...</td>\n      <td>...</td>\n      <td>...</td>\n      <td>...</td>\n    </tr>\n    <tr>\n      <th>57</th>\n      <td>Xerez</td>\n      <td>1</td>\n      <td>34</td>\n      <td>38</td>\n      <td>8</td>\n      <td>10</td>\n      <td>20</td>\n      <td>38</td>\n      <td>66</td>\n      <td>0</td>\n      <td>0</td>\n      <td>0</td>\n      <td>0</td>\n      <td>0</td>\n      <td>0</td>\n      <td>0</td>\n      <td>2009-10</td>\n      <td>2009-10</td>\n      <td>20</td>\n    </tr>\n    <tr>\n      <th>58</th>\n      <td>Condal</td>\n      <td>1</td>\n      <td>22</td>\n      <td>30</td>\n      <td>7</td>\n      <td>8</td>\n      <td>15</td>\n      <td>37</td>\n      <td>57</td>\n      <td>0</td>\n      <td>0</td>\n      <td>0</td>\n      <td>0</td>\n      <td>0</td>\n      <td>0</td>\n      <td>0</td>\n      <td>1956-57</td>\n      <td>1956-57</td>\n      <td>16</td>\n    </tr>\n    <tr>\n      <th>59</th>\n      <td>Atletico Tetuan</td>\n      <td>1</td>\n      <td>19</td>\n      <td>30</td>\n      <td>7</td>\n      <td>5</td>\n      <td>18</td>\n      <td>51</td>\n      <td>85</td>\n      <td>0</td>\n      <td>0</td>\n      <td>0</td>\n      <td>0</td>\n      <td>0</td>\n      <td>0</td>\n      <td>0</td>\n      <td>1951-52</td>\n      <td>1951-52</td>\n      <td>16</td>\n    </tr>\n    <tr>\n      <th>60</th>\n      <td>Cultural Leonesa</td>\n      <td>1</td>\n      <td>14</td>\n      <td>30</td>\n      <td>5</td>\n      <td>4</td>\n      <td>21</td>\n      <td>34</td>\n      <td>65</td>\n      <td>0</td>\n      <td>0</td>\n      <td>0</td>\n      <td>0</td>\n      <td>0</td>\n      <td>0</td>\n      <td>0</td>\n      <td>1955-56</td>\n      <td>1955-56</td>\n      <td>15</td>\n    </tr>\n    <tr>\n      <th>61</th>\n      <td>Girona</td>\n      <td>1</td>\n      <td>0</td>\n      <td>0</td>\n      <td>0</td>\n      <td>0</td>\n      <td>0</td>\n      <td>0</td>\n      <td>0</td>\n      <td>0</td>\n      <td>0</td>\n      <td>0</td>\n      <td>0</td>\n      <td>0</td>\n      <td>0</td>\n      <td>0</td>\n      <td>2017-18</td>\n      <td>2017-18</td>\n      <td>9</td>\n    </tr>\n  </tbody>\n</table>\n<p>61 rows × 19 columns</p>\n</div>"
     },
     "metadata": {},
     "execution_count": 16
    }
   ],
   "source": [
    "data"
   ]
  },
  {
   "cell_type": "markdown",
   "metadata": {},
   "source": [
    "### 2. Print all the teams which have started playing between 1930-1980. (5 points)"
   ]
  },
  {
   "cell_type": "code",
   "execution_count": 17,
   "metadata": {},
   "outputs": [
    {
     "output_type": "execute_result",
     "data": {
      "text/plain": "                 Team  Seasons Points GamesPlayed GamesWon GamesDrawn  \\\nPos                                                                     \n41          Burgos CF        6    168         204       59         50   \n42         Pontevedra        6    150         180       53         44   \n50           Alcoyano        4     76         108       30         16   \n51               Jaen        3     71          90       29         13   \n58             Condal        1     22          30        7          8   \n59    Atletico Tetuan        1     19          30        7          5   \n60   Cultural Leonesa        1     14          30        5          4   \n\n    GamesLost GoalsFor GoalsAgainst Champion Runner-up Third Fourth Fifth  \\\nPos                                                                         \n41         95      216          310        0         0     0      0     0   \n42         83      165          221        0         0     0      0     0   \n50         62      145          252        0         0     0      0     0   \n51         48      121          183        0         0     0      0     0   \n58         15       37           57        0         0     0      0     0   \n59         18       51           85        0         0     0      0     0   \n60         21       34           65        0         0     0      0     0   \n\n    Sixth  T    Debut Last App  BestPosition  \nPos                                           \n41      0  0  1971-72  1979-80            12  \n42      0  0  1963-64  1969-70             7  \n50      0  0  1945-46  1950-51            10  \n51      0  0  1953-54  1957-58            14  \n58      0  0  1956-57  1956-57            16  \n59      0  0  1951-52  1951-52            16  \n60      0  0  1955-56  1955-56            15  ",
      "text/html": "<div>\n<style scoped>\n    .dataframe tbody tr th:only-of-type {\n        vertical-align: middle;\n    }\n\n    .dataframe tbody tr th {\n        vertical-align: top;\n    }\n\n    .dataframe thead th {\n        text-align: right;\n    }\n</style>\n<table border=\"1\" class=\"dataframe\">\n  <thead>\n    <tr style=\"text-align: right;\">\n      <th></th>\n      <th>Team</th>\n      <th>Seasons</th>\n      <th>Points</th>\n      <th>GamesPlayed</th>\n      <th>GamesWon</th>\n      <th>GamesDrawn</th>\n      <th>GamesLost</th>\n      <th>GoalsFor</th>\n      <th>GoalsAgainst</th>\n      <th>Champion</th>\n      <th>Runner-up</th>\n      <th>Third</th>\n      <th>Fourth</th>\n      <th>Fifth</th>\n      <th>Sixth</th>\n      <th>T</th>\n      <th>Debut</th>\n      <th>Last App</th>\n      <th>BestPosition</th>\n    </tr>\n    <tr>\n      <th>Pos</th>\n      <th></th>\n      <th></th>\n      <th></th>\n      <th></th>\n      <th></th>\n      <th></th>\n      <th></th>\n      <th></th>\n      <th></th>\n      <th></th>\n      <th></th>\n      <th></th>\n      <th></th>\n      <th></th>\n      <th></th>\n      <th></th>\n      <th></th>\n      <th></th>\n      <th></th>\n    </tr>\n  </thead>\n  <tbody>\n    <tr>\n      <th>41</th>\n      <td>Burgos CF</td>\n      <td>6</td>\n      <td>168</td>\n      <td>204</td>\n      <td>59</td>\n      <td>50</td>\n      <td>95</td>\n      <td>216</td>\n      <td>310</td>\n      <td>0</td>\n      <td>0</td>\n      <td>0</td>\n      <td>0</td>\n      <td>0</td>\n      <td>0</td>\n      <td>0</td>\n      <td>1971-72</td>\n      <td>1979-80</td>\n      <td>12</td>\n    </tr>\n    <tr>\n      <th>42</th>\n      <td>Pontevedra</td>\n      <td>6</td>\n      <td>150</td>\n      <td>180</td>\n      <td>53</td>\n      <td>44</td>\n      <td>83</td>\n      <td>165</td>\n      <td>221</td>\n      <td>0</td>\n      <td>0</td>\n      <td>0</td>\n      <td>0</td>\n      <td>0</td>\n      <td>0</td>\n      <td>0</td>\n      <td>1963-64</td>\n      <td>1969-70</td>\n      <td>7</td>\n    </tr>\n    <tr>\n      <th>50</th>\n      <td>Alcoyano</td>\n      <td>4</td>\n      <td>76</td>\n      <td>108</td>\n      <td>30</td>\n      <td>16</td>\n      <td>62</td>\n      <td>145</td>\n      <td>252</td>\n      <td>0</td>\n      <td>0</td>\n      <td>0</td>\n      <td>0</td>\n      <td>0</td>\n      <td>0</td>\n      <td>0</td>\n      <td>1945-46</td>\n      <td>1950-51</td>\n      <td>10</td>\n    </tr>\n    <tr>\n      <th>51</th>\n      <td>Jaen</td>\n      <td>3</td>\n      <td>71</td>\n      <td>90</td>\n      <td>29</td>\n      <td>13</td>\n      <td>48</td>\n      <td>121</td>\n      <td>183</td>\n      <td>0</td>\n      <td>0</td>\n      <td>0</td>\n      <td>0</td>\n      <td>0</td>\n      <td>0</td>\n      <td>0</td>\n      <td>1953-54</td>\n      <td>1957-58</td>\n      <td>14</td>\n    </tr>\n    <tr>\n      <th>58</th>\n      <td>Condal</td>\n      <td>1</td>\n      <td>22</td>\n      <td>30</td>\n      <td>7</td>\n      <td>8</td>\n      <td>15</td>\n      <td>37</td>\n      <td>57</td>\n      <td>0</td>\n      <td>0</td>\n      <td>0</td>\n      <td>0</td>\n      <td>0</td>\n      <td>0</td>\n      <td>0</td>\n      <td>1956-57</td>\n      <td>1956-57</td>\n      <td>16</td>\n    </tr>\n    <tr>\n      <th>59</th>\n      <td>Atletico Tetuan</td>\n      <td>1</td>\n      <td>19</td>\n      <td>30</td>\n      <td>7</td>\n      <td>5</td>\n      <td>18</td>\n      <td>51</td>\n      <td>85</td>\n      <td>0</td>\n      <td>0</td>\n      <td>0</td>\n      <td>0</td>\n      <td>0</td>\n      <td>0</td>\n      <td>0</td>\n      <td>1951-52</td>\n      <td>1951-52</td>\n      <td>16</td>\n    </tr>\n    <tr>\n      <th>60</th>\n      <td>Cultural Leonesa</td>\n      <td>1</td>\n      <td>14</td>\n      <td>30</td>\n      <td>5</td>\n      <td>4</td>\n      <td>21</td>\n      <td>34</td>\n      <td>65</td>\n      <td>0</td>\n      <td>0</td>\n      <td>0</td>\n      <td>0</td>\n      <td>0</td>\n      <td>0</td>\n      <td>0</td>\n      <td>1955-56</td>\n      <td>1955-56</td>\n      <td>15</td>\n    </tr>\n  </tbody>\n</table>\n</div>"
     },
     "metadata": {},
     "execution_count": 17
    }
   ],
   "source": [
    "data[(data['Debut'] > '1930') & (data['Last App'] < '1980')]"
   ]
  },
  {
   "cell_type": "markdown",
   "metadata": {},
   "source": [
    "### 3. Print the list of teams which came Top 5 in terms of points (2.5 points)"
   ]
  },
  {
   "cell_type": "code",
   "execution_count": 19,
   "metadata": {},
   "outputs": [
    {
     "output_type": "execute_result",
     "data": {
      "text/plain": "                Team\nPos                 \n1        Real Madrid\n2          Barcelona\n3    Atletico Madrid\n4           Valencia\n5    Athletic Bilbao",
      "text/html": "<div>\n<style scoped>\n    .dataframe tbody tr th:only-of-type {\n        vertical-align: middle;\n    }\n\n    .dataframe tbody tr th {\n        vertical-align: top;\n    }\n\n    .dataframe thead th {\n        text-align: right;\n    }\n</style>\n<table border=\"1\" class=\"dataframe\">\n  <thead>\n    <tr style=\"text-align: right;\">\n      <th></th>\n      <th>Team</th>\n    </tr>\n    <tr>\n      <th>Pos</th>\n      <th></th>\n    </tr>\n  </thead>\n  <tbody>\n    <tr>\n      <th>1</th>\n      <td>Real Madrid</td>\n    </tr>\n    <tr>\n      <th>2</th>\n      <td>Barcelona</td>\n    </tr>\n    <tr>\n      <th>3</th>\n      <td>Atletico Madrid</td>\n    </tr>\n    <tr>\n      <th>4</th>\n      <td>Valencia</td>\n    </tr>\n    <tr>\n      <th>5</th>\n      <td>Athletic Bilbao</td>\n    </tr>\n  </tbody>\n</table>\n</div>"
     },
     "metadata": {},
     "execution_count": 19
    }
   ],
   "source": [
    "top5 = data.loc[1:5, ['Team']]\n",
    "top5"
   ]
  },
  {
   "cell_type": "code",
   "execution_count": 20,
   "metadata": {},
   "outputs": [
    {
     "output_type": "execute_result",
     "data": {
      "text/plain": "pandas.core.frame.DataFrame"
     },
     "metadata": {},
     "execution_count": 20
    }
   ],
   "source": [
    "type(top5)\n"
   ]
  },
  {
   "cell_type": "code",
   "execution_count": 21,
   "metadata": {
    "tags": []
   },
   "outputs": [
    {
     "output_type": "stream",
     "name": "stdout",
     "text": "['Real Madrid', 'Barcelona', 'Atletico Madrid', 'Valencia', 'Athletic Bilbao']\n"
    }
   ],
   "source": [
    "print(top5['Team'].tolist())"
   ]
  },
  {
   "cell_type": "markdown",
   "metadata": {},
   "source": [
    "### Processing Objects to int for calculation\n"
   ]
  },
  {
   "cell_type": "code",
   "execution_count": 23,
   "metadata": {},
   "outputs": [
    {
     "output_type": "execute_result",
     "data": {
      "text/plain": "Team            object\nSeasons          int64\nPoints          object\nGamesPlayed     object\nGamesWon        object\nGamesDrawn      object\nGamesLost       object\nGoalsFor        object\nGoalsAgainst    object\nChampion        object\nRunner-up       object\nThird           object\nFourth          object\nFifth           object\nSixth           object\nT               object\nDebut           object\nLast App        object\nBestPosition     int64\ndtype: object"
     },
     "metadata": {},
     "execution_count": 23
    }
   ],
   "source": [
    "data.dtypes"
   ]
  },
  {
   "cell_type": "code",
   "execution_count": 24,
   "metadata": {},
   "outputs": [],
   "source": [
    "data = data.astype({'GoalsFor':int  , 'GoalsAgainst': int, 'GamesPlayed' : int, 'GamesWon' : int, 'GamesLost' : int})"
   ]
  },
  {
   "cell_type": "code",
   "execution_count": 25,
   "metadata": {
    "tags": []
   },
   "outputs": [
    {
     "output_type": "stream",
     "name": "stdout",
     "text": "Team            object\nSeasons          int64\nPoints          object\nGamesPlayed      int32\nGamesWon         int32\nGamesDrawn      object\nGamesLost        int32\nGoalsFor         int32\nGoalsAgainst     int32\nChampion        object\nRunner-up       object\nThird           object\nFourth          object\nFifth           object\nSixth           object\nT               object\nDebut           object\nLast App        object\nBestPosition     int64\ndtype: object\n"
    }
   ],
   "source": [
    "data = data.infer_objects()\n",
    "print(data.dtypes)"
   ]
  },
  {
   "cell_type": "markdown",
   "metadata": {},
   "source": [
    "### 4. Write a function with name “Goal_diff_count” which should return all the teams with their Goal Differences. Using the same function, find the team which has maximum and minimum goal difference. (5 points)"
   ]
  },
  {
   "cell_type": "code",
   "execution_count": 29,
   "metadata": {},
   "outputs": [],
   "source": [
    "def Goal_diff_count(data):\n",
    "        for team in data['Team']:\n",
    "            data['Goal_diff_count'] = data['GoalsFor'] - data['GoalsAgainst']\n",
    "            return data[['Team', 'Goal_diff_count']]"
   ]
  },
  {
   "cell_type": "code",
   "execution_count": 30,
   "metadata": {
    "tags": []
   },
   "outputs": [
    {
     "output_type": "execute_result",
     "data": {
      "text/plain": "                 Team  Goal_diff_count\nPos                                   \n1         Real Madrid             2807\n2           Barcelona             2786\n3     Atletico Madrid             1225\n4            Valencia              929\n5     Athletic Bilbao              931\n..                ...              ...\n57              Xerez              -28\n58             Condal              -20\n59    Atletico Tetuan              -34\n60   Cultural Leonesa              -31\n61             Girona                0\n\n[61 rows x 2 columns]",
      "text/html": "<div>\n<style scoped>\n    .dataframe tbody tr th:only-of-type {\n        vertical-align: middle;\n    }\n\n    .dataframe tbody tr th {\n        vertical-align: top;\n    }\n\n    .dataframe thead th {\n        text-align: right;\n    }\n</style>\n<table border=\"1\" class=\"dataframe\">\n  <thead>\n    <tr style=\"text-align: right;\">\n      <th></th>\n      <th>Team</th>\n      <th>Goal_diff_count</th>\n    </tr>\n    <tr>\n      <th>Pos</th>\n      <th></th>\n      <th></th>\n    </tr>\n  </thead>\n  <tbody>\n    <tr>\n      <th>1</th>\n      <td>Real Madrid</td>\n      <td>2807</td>\n    </tr>\n    <tr>\n      <th>2</th>\n      <td>Barcelona</td>\n      <td>2786</td>\n    </tr>\n    <tr>\n      <th>3</th>\n      <td>Atletico Madrid</td>\n      <td>1225</td>\n    </tr>\n    <tr>\n      <th>4</th>\n      <td>Valencia</td>\n      <td>929</td>\n    </tr>\n    <tr>\n      <th>5</th>\n      <td>Athletic Bilbao</td>\n      <td>931</td>\n    </tr>\n    <tr>\n      <th>...</th>\n      <td>...</td>\n      <td>...</td>\n    </tr>\n    <tr>\n      <th>57</th>\n      <td>Xerez</td>\n      <td>-28</td>\n    </tr>\n    <tr>\n      <th>58</th>\n      <td>Condal</td>\n      <td>-20</td>\n    </tr>\n    <tr>\n      <th>59</th>\n      <td>Atletico Tetuan</td>\n      <td>-34</td>\n    </tr>\n    <tr>\n      <th>60</th>\n      <td>Cultural Leonesa</td>\n      <td>-31</td>\n    </tr>\n    <tr>\n      <th>61</th>\n      <td>Girona</td>\n      <td>0</td>\n    </tr>\n  </tbody>\n</table>\n<p>61 rows × 2 columns</p>\n</div>"
     },
     "metadata": {},
     "execution_count": 30
    }
   ],
   "source": [
    "Goal_diff_count(data)"
   ]
  },
  {
   "cell_type": "code",
   "execution_count": 32,
   "metadata": {},
   "outputs": [
    {
     "output_type": "execute_result",
     "data": {
      "text/plain": "Team               Zaragoza\nGoal_diff_count        2807\ndtype: object"
     },
     "metadata": {},
     "execution_count": 32
    }
   ],
   "source": [
    "Goal_diff_count(data).max()"
   ]
  },
  {
   "cell_type": "code",
   "execution_count": 33,
   "metadata": {},
   "outputs": [
    {
     "output_type": "execute_result",
     "data": {
      "text/plain": "Team               AD Almeria\nGoal_diff_count          -525\ndtype: object"
     },
     "metadata": {},
     "execution_count": 33
    }
   ],
   "source": [
    "Goal_diff_count(data).min()"
   ]
  },
  {
   "cell_type": "markdown",
   "metadata": {},
   "source": [
    "### 5. Create a new column with name “Winning Percent” and append it to the data set (5 points)"
   ]
  },
  {
   "cell_type": "code",
   "execution_count": 38,
   "metadata": {},
   "outputs": [],
   "source": [
    "def Winning_percent(data):\n",
    "    for team in data[\"Team\"]:\n",
    "        data['Winning Percentage'] = (data['GamesWon'] / data['GamesPlayed']) / 100\n",
    "        return data[['Team', 'GamesWon', 'GamesPlayed', 'Winning Percentage']]"
   ]
  },
  {
   "cell_type": "code",
   "execution_count": 39,
   "metadata": {},
   "outputs": [],
   "source": [
    "Winning_percent(data)"
   ]
  },
  {
   "cell_type": "markdown",
   "metadata": {},
   "source": [
    "### Print the top 5 teams which has the highest Winning percentage"
   ]
  },
  {
   "cell_type": "code",
   "execution_count": 43,
   "metadata": {},
   "outputs": [],
   "source": [
    "Win_percent = data.sort_values(by =['Winning Percentage'],  ascending = False)"
   ]
  },
  {
   "cell_type": "code",
   "execution_count": 47,
   "metadata": {},
   "outputs": [
    {
     "output_type": "execute_result",
     "data": {
      "text/plain": "                Team  Winning Percentage\nPos                                     \n1        Real Madrid            0.005963\n2          Barcelona            0.005724\n3    Atletico Madrid            0.004748\n4           Valencia            0.004456\n5    Athletic Bilbao            0.004377",
      "text/html": "<div>\n<style scoped>\n    .dataframe tbody tr th:only-of-type {\n        vertical-align: middle;\n    }\n\n    .dataframe tbody tr th {\n        vertical-align: top;\n    }\n\n    .dataframe thead th {\n        text-align: right;\n    }\n</style>\n<table border=\"1\" class=\"dataframe\">\n  <thead>\n    <tr style=\"text-align: right;\">\n      <th></th>\n      <th>Team</th>\n      <th>Winning Percentage</th>\n    </tr>\n    <tr>\n      <th>Pos</th>\n      <th></th>\n      <th></th>\n    </tr>\n  </thead>\n  <tbody>\n    <tr>\n      <th>1</th>\n      <td>Real Madrid</td>\n      <td>0.005963</td>\n    </tr>\n    <tr>\n      <th>2</th>\n      <td>Barcelona</td>\n      <td>0.005724</td>\n    </tr>\n    <tr>\n      <th>3</th>\n      <td>Atletico Madrid</td>\n      <td>0.004748</td>\n    </tr>\n    <tr>\n      <th>4</th>\n      <td>Valencia</td>\n      <td>0.004456</td>\n    </tr>\n    <tr>\n      <th>5</th>\n      <td>Athletic Bilbao</td>\n      <td>0.004377</td>\n    </tr>\n  </tbody>\n</table>\n</div>"
     },
     "metadata": {},
     "execution_count": 47
    }
   ],
   "source": [
    "Win_percent.loc[1:5,['Team', 'Winning Percentage']]"
   ]
  },
  {
   "cell_type": "code",
   "execution_count": 48,
   "metadata": {},
   "outputs": [
    {
     "output_type": "execute_result",
     "data": {
      "text/plain": "                Team  Seasons Points  GamesPlayed  GamesWon GamesDrawn  \\\nPos                                                                      \n1        Real Madrid       86   4385         2762      1647        552   \n2          Barcelona       86   4262         2762      1581        573   \n3    Atletico Madrid       80   3442         2614      1241        598   \n4           Valencia       82   3386         2664      1187        616   \n5    Athletic Bilbao       86   3368         2762      1209        633   \n\n     GamesLost  GoalsFor  GoalsAgainst Champion  ... Third Fourth Fifth Sixth  \\\nPos                                              ...                            \n1          563      5947          3140       33  ...     8      8     3     4   \n2          608      5900          3114       25  ...    12     12     4     6   \n3          775      4534          3309       10  ...    16      9     7     6   \n4          861      4398          3469        6  ...    10     11    10     7   \n5          920      4631          3700        8  ...    10      5     8    10   \n\n      T    Debut Last App BestPosition  Goal_diff_count  Winning Percentage  \nPos                                                                          \n1    79     1929     1929            1             2807            0.005963  \n2    83     1929     1929            1             2786            0.005724  \n3    56     1929  2002-03            1             1225            0.004748  \n4    50  1931-32  1987-88            1              929            0.004456  \n5    49     1929     1929            1              931            0.004377  \n\n[5 rows x 21 columns]",
      "text/html": "<div>\n<style scoped>\n    .dataframe tbody tr th:only-of-type {\n        vertical-align: middle;\n    }\n\n    .dataframe tbody tr th {\n        vertical-align: top;\n    }\n\n    .dataframe thead th {\n        text-align: right;\n    }\n</style>\n<table border=\"1\" class=\"dataframe\">\n  <thead>\n    <tr style=\"text-align: right;\">\n      <th></th>\n      <th>Team</th>\n      <th>Seasons</th>\n      <th>Points</th>\n      <th>GamesPlayed</th>\n      <th>GamesWon</th>\n      <th>GamesDrawn</th>\n      <th>GamesLost</th>\n      <th>GoalsFor</th>\n      <th>GoalsAgainst</th>\n      <th>Champion</th>\n      <th>...</th>\n      <th>Third</th>\n      <th>Fourth</th>\n      <th>Fifth</th>\n      <th>Sixth</th>\n      <th>T</th>\n      <th>Debut</th>\n      <th>Last App</th>\n      <th>BestPosition</th>\n      <th>Goal_diff_count</th>\n      <th>Winning Percentage</th>\n    </tr>\n    <tr>\n      <th>Pos</th>\n      <th></th>\n      <th></th>\n      <th></th>\n      <th></th>\n      <th></th>\n      <th></th>\n      <th></th>\n      <th></th>\n      <th></th>\n      <th></th>\n      <th></th>\n      <th></th>\n      <th></th>\n      <th></th>\n      <th></th>\n      <th></th>\n      <th></th>\n      <th></th>\n      <th></th>\n      <th></th>\n      <th></th>\n    </tr>\n  </thead>\n  <tbody>\n    <tr>\n      <th>1</th>\n      <td>Real Madrid</td>\n      <td>86</td>\n      <td>4385</td>\n      <td>2762</td>\n      <td>1647</td>\n      <td>552</td>\n      <td>563</td>\n      <td>5947</td>\n      <td>3140</td>\n      <td>33</td>\n      <td>...</td>\n      <td>8</td>\n      <td>8</td>\n      <td>3</td>\n      <td>4</td>\n      <td>79</td>\n      <td>1929</td>\n      <td>1929</td>\n      <td>1</td>\n      <td>2807</td>\n      <td>0.005963</td>\n    </tr>\n    <tr>\n      <th>2</th>\n      <td>Barcelona</td>\n      <td>86</td>\n      <td>4262</td>\n      <td>2762</td>\n      <td>1581</td>\n      <td>573</td>\n      <td>608</td>\n      <td>5900</td>\n      <td>3114</td>\n      <td>25</td>\n      <td>...</td>\n      <td>12</td>\n      <td>12</td>\n      <td>4</td>\n      <td>6</td>\n      <td>83</td>\n      <td>1929</td>\n      <td>1929</td>\n      <td>1</td>\n      <td>2786</td>\n      <td>0.005724</td>\n    </tr>\n    <tr>\n      <th>3</th>\n      <td>Atletico Madrid</td>\n      <td>80</td>\n      <td>3442</td>\n      <td>2614</td>\n      <td>1241</td>\n      <td>598</td>\n      <td>775</td>\n      <td>4534</td>\n      <td>3309</td>\n      <td>10</td>\n      <td>...</td>\n      <td>16</td>\n      <td>9</td>\n      <td>7</td>\n      <td>6</td>\n      <td>56</td>\n      <td>1929</td>\n      <td>2002-03</td>\n      <td>1</td>\n      <td>1225</td>\n      <td>0.004748</td>\n    </tr>\n    <tr>\n      <th>4</th>\n      <td>Valencia</td>\n      <td>82</td>\n      <td>3386</td>\n      <td>2664</td>\n      <td>1187</td>\n      <td>616</td>\n      <td>861</td>\n      <td>4398</td>\n      <td>3469</td>\n      <td>6</td>\n      <td>...</td>\n      <td>10</td>\n      <td>11</td>\n      <td>10</td>\n      <td>7</td>\n      <td>50</td>\n      <td>1931-32</td>\n      <td>1987-88</td>\n      <td>1</td>\n      <td>929</td>\n      <td>0.004456</td>\n    </tr>\n    <tr>\n      <th>5</th>\n      <td>Athletic Bilbao</td>\n      <td>86</td>\n      <td>3368</td>\n      <td>2762</td>\n      <td>1209</td>\n      <td>633</td>\n      <td>920</td>\n      <td>4631</td>\n      <td>3700</td>\n      <td>8</td>\n      <td>...</td>\n      <td>10</td>\n      <td>5</td>\n      <td>8</td>\n      <td>10</td>\n      <td>49</td>\n      <td>1929</td>\n      <td>1929</td>\n      <td>1</td>\n      <td>931</td>\n      <td>0.004377</td>\n    </tr>\n  </tbody>\n</table>\n<p>5 rows × 21 columns</p>\n</div>"
     },
     "metadata": {},
     "execution_count": 48
    }
   ],
   "source": [
    "data.head()"
   ]
  },
  {
   "cell_type": "markdown",
   "metadata": {},
   "source": [
    "### 6. Group teams based on their “Best position” and print the sum of their points for all positions (10 points)"
   ]
  },
  {
   "cell_type": "code",
   "execution_count": 49,
   "metadata": {},
   "outputs": [
    {
     "output_type": "execute_result",
     "data": {
      "text/plain": "array([ 1,  3,  2,  4,  6,  8,  5, 11,  7, 12, 10, 17,  9, 19, 14, 16, 20,\n       15], dtype=int64)"
     },
     "metadata": {},
     "execution_count": 49
    }
   ],
   "source": [
    "data['BestPosition'].unique()"
   ]
  },
  {
   "cell_type": "code",
   "execution_count": 53,
   "metadata": {},
   "outputs": [
    {
     "output_type": "execute_result",
     "data": {
      "text/plain": "                 Team  Seasons Points  GamesPlayed  GamesWon GamesDrawn  \\\nPos                                                                       \n9            Zaragoza       58   2109         1986       698        522   \n14   Racing Santander       44   1416         1428       453        336   \n15     Sporting Gijon       43   1389         1458       471        358   \n20         Las Palmas       33   1020         1096       367        242   \n21         Villarreal       17    970          646       266        172   \n\n     GamesLost  GoalsFor  GoalsAgainst Champion  ... Third Fourth Fifth Sixth  \\\nPos                                              ...                            \n9          766      2683          2847        0  ...     4      5     4     4   \n14         639      1843          2368        0  ...     1      2     0     1   \n15         629      1753          2152        0  ...     1      2     2     1   \n20         487      1347          1746        0  ...     1      1     1     1   \n21         208       892           789        0  ...     1      2     3     2   \n\n      T    Debut Last App BestPosition  Goal_diff_count  Winning Percentage  \nPos                                                                          \n9    18  1939-40  2012-13            2             -164            0.003515  \n14    5     1929  2011-12            2             -525            0.003172  \n15    7  1944-45  2015-16            2             -399            0.003230  \n20    5  1951-52  2015-16            2             -399            0.003349  \n21    9  1998-99  2013-14            2              103            0.004118  \n\n[5 rows x 21 columns]",
      "text/html": "<div>\n<style scoped>\n    .dataframe tbody tr th:only-of-type {\n        vertical-align: middle;\n    }\n\n    .dataframe tbody tr th {\n        vertical-align: top;\n    }\n\n    .dataframe thead th {\n        text-align: right;\n    }\n</style>\n<table border=\"1\" class=\"dataframe\">\n  <thead>\n    <tr style=\"text-align: right;\">\n      <th></th>\n      <th>Team</th>\n      <th>Seasons</th>\n      <th>Points</th>\n      <th>GamesPlayed</th>\n      <th>GamesWon</th>\n      <th>GamesDrawn</th>\n      <th>GamesLost</th>\n      <th>GoalsFor</th>\n      <th>GoalsAgainst</th>\n      <th>Champion</th>\n      <th>...</th>\n      <th>Third</th>\n      <th>Fourth</th>\n      <th>Fifth</th>\n      <th>Sixth</th>\n      <th>T</th>\n      <th>Debut</th>\n      <th>Last App</th>\n      <th>BestPosition</th>\n      <th>Goal_diff_count</th>\n      <th>Winning Percentage</th>\n    </tr>\n    <tr>\n      <th>Pos</th>\n      <th></th>\n      <th></th>\n      <th></th>\n      <th></th>\n      <th></th>\n      <th></th>\n      <th></th>\n      <th></th>\n      <th></th>\n      <th></th>\n      <th></th>\n      <th></th>\n      <th></th>\n      <th></th>\n      <th></th>\n      <th></th>\n      <th></th>\n      <th></th>\n      <th></th>\n      <th></th>\n      <th></th>\n    </tr>\n  </thead>\n  <tbody>\n    <tr>\n      <th>9</th>\n      <td>Zaragoza</td>\n      <td>58</td>\n      <td>2109</td>\n      <td>1986</td>\n      <td>698</td>\n      <td>522</td>\n      <td>766</td>\n      <td>2683</td>\n      <td>2847</td>\n      <td>0</td>\n      <td>...</td>\n      <td>4</td>\n      <td>5</td>\n      <td>4</td>\n      <td>4</td>\n      <td>18</td>\n      <td>1939-40</td>\n      <td>2012-13</td>\n      <td>2</td>\n      <td>-164</td>\n      <td>0.003515</td>\n    </tr>\n    <tr>\n      <th>14</th>\n      <td>Racing Santander</td>\n      <td>44</td>\n      <td>1416</td>\n      <td>1428</td>\n      <td>453</td>\n      <td>336</td>\n      <td>639</td>\n      <td>1843</td>\n      <td>2368</td>\n      <td>0</td>\n      <td>...</td>\n      <td>1</td>\n      <td>2</td>\n      <td>0</td>\n      <td>1</td>\n      <td>5</td>\n      <td>1929</td>\n      <td>2011-12</td>\n      <td>2</td>\n      <td>-525</td>\n      <td>0.003172</td>\n    </tr>\n    <tr>\n      <th>15</th>\n      <td>Sporting Gijon</td>\n      <td>43</td>\n      <td>1389</td>\n      <td>1458</td>\n      <td>471</td>\n      <td>358</td>\n      <td>629</td>\n      <td>1753</td>\n      <td>2152</td>\n      <td>0</td>\n      <td>...</td>\n      <td>1</td>\n      <td>2</td>\n      <td>2</td>\n      <td>1</td>\n      <td>7</td>\n      <td>1944-45</td>\n      <td>2015-16</td>\n      <td>2</td>\n      <td>-399</td>\n      <td>0.003230</td>\n    </tr>\n    <tr>\n      <th>20</th>\n      <td>Las Palmas</td>\n      <td>33</td>\n      <td>1020</td>\n      <td>1096</td>\n      <td>367</td>\n      <td>242</td>\n      <td>487</td>\n      <td>1347</td>\n      <td>1746</td>\n      <td>0</td>\n      <td>...</td>\n      <td>1</td>\n      <td>1</td>\n      <td>1</td>\n      <td>1</td>\n      <td>5</td>\n      <td>1951-52</td>\n      <td>2015-16</td>\n      <td>2</td>\n      <td>-399</td>\n      <td>0.003349</td>\n    </tr>\n    <tr>\n      <th>21</th>\n      <td>Villarreal</td>\n      <td>17</td>\n      <td>970</td>\n      <td>646</td>\n      <td>266</td>\n      <td>172</td>\n      <td>208</td>\n      <td>892</td>\n      <td>789</td>\n      <td>0</td>\n      <td>...</td>\n      <td>1</td>\n      <td>2</td>\n      <td>3</td>\n      <td>2</td>\n      <td>9</td>\n      <td>1998-99</td>\n      <td>2013-14</td>\n      <td>2</td>\n      <td>103</td>\n      <td>0.004118</td>\n    </tr>\n  </tbody>\n</table>\n<p>5 rows × 21 columns</p>\n</div>"
     },
     "metadata": {},
     "execution_count": 53
    }
   ],
   "source": [
    "#data[data['BestPosition'] == 2]"
   ]
  },
  {
   "cell_type": "code",
   "execution_count": 132,
   "metadata": {},
   "outputs": [],
   "source": [
    "grouped_teams = data.groupby('BestPosition')['Team'].apply(list).reset_index(name = 'Teams') "
   ]
  },
  {
   "cell_type": "code",
   "execution_count": 133,
   "metadata": {},
   "outputs": [
    {
     "output_type": "execute_result",
     "data": {
      "text/plain": "pandas.core.frame.DataFrame"
     },
     "metadata": {},
     "execution_count": 133
    }
   ],
   "source": [
    "type(grouped_teams)"
   ]
  },
  {
   "cell_type": "code",
   "execution_count": 134,
   "metadata": {},
   "outputs": [],
   "source": [
    "grouped_teams.set_index('BestPosition', inplace = True)"
   ]
  },
  {
   "cell_type": "code",
   "execution_count": 135,
   "metadata": {},
   "outputs": [
    {
     "output_type": "execute_result",
     "data": {
      "text/plain": "                                                          Teams\nBestPosition                                                   \n1             [Real Madrid, Barcelona, Atletico Madrid, Vale...\n2             [Zaragoza, Racing Santander, Sporting Gijon, L...\n3                          [Espanyol, Oviedo, Mallorca, Arenas]\n4             [Celta Vigo, Valladolid, Osasuna, Malaga, Saba...\n5                          [Elche, Hercules, Tenerife, Cordoba]\n6                [Granada, Getafe, Alaves, Levante, Real Union]\n7             [Salamanca, Logrones, Albacete, Pontevedra, Gi...\n8                 [Rayo Vallecano, Almeria, Recreativo, Europa]\n9                                         [Real Burgos, Girona]\n10                    [Compostela, Eibar, Alcoyano, AD Almeria]\n11                                                     [Murcia]\n12                                           [Cadiz, Burgos CF]\n14                                                       [Jaen]\n15                                           [Cultural Leonesa]\n16                            [Lleida, Condal, Atletico Tetuan]\n17                             [Numancia, Extremadura, Leganes]\n19                                                     [Merida]\n20                                                      [Xerez]",
      "text/html": "<div>\n<style scoped>\n    .dataframe tbody tr th:only-of-type {\n        vertical-align: middle;\n    }\n\n    .dataframe tbody tr th {\n        vertical-align: top;\n    }\n\n    .dataframe thead th {\n        text-align: right;\n    }\n</style>\n<table border=\"1\" class=\"dataframe\">\n  <thead>\n    <tr style=\"text-align: right;\">\n      <th></th>\n      <th>Teams</th>\n    </tr>\n    <tr>\n      <th>BestPosition</th>\n      <th></th>\n    </tr>\n  </thead>\n  <tbody>\n    <tr>\n      <th>1</th>\n      <td>[Real Madrid, Barcelona, Atletico Madrid, Vale...</td>\n    </tr>\n    <tr>\n      <th>2</th>\n      <td>[Zaragoza, Racing Santander, Sporting Gijon, L...</td>\n    </tr>\n    <tr>\n      <th>3</th>\n      <td>[Espanyol, Oviedo, Mallorca, Arenas]</td>\n    </tr>\n    <tr>\n      <th>4</th>\n      <td>[Celta Vigo, Valladolid, Osasuna, Malaga, Saba...</td>\n    </tr>\n    <tr>\n      <th>5</th>\n      <td>[Elche, Hercules, Tenerife, Cordoba]</td>\n    </tr>\n    <tr>\n      <th>6</th>\n      <td>[Granada, Getafe, Alaves, Levante, Real Union]</td>\n    </tr>\n    <tr>\n      <th>7</th>\n      <td>[Salamanca, Logrones, Albacete, Pontevedra, Gi...</td>\n    </tr>\n    <tr>\n      <th>8</th>\n      <td>[Rayo Vallecano, Almeria, Recreativo, Europa]</td>\n    </tr>\n    <tr>\n      <th>9</th>\n      <td>[Real Burgos, Girona]</td>\n    </tr>\n    <tr>\n      <th>10</th>\n      <td>[Compostela, Eibar, Alcoyano, AD Almeria]</td>\n    </tr>\n    <tr>\n      <th>11</th>\n      <td>[Murcia]</td>\n    </tr>\n    <tr>\n      <th>12</th>\n      <td>[Cadiz, Burgos CF]</td>\n    </tr>\n    <tr>\n      <th>14</th>\n      <td>[Jaen]</td>\n    </tr>\n    <tr>\n      <th>15</th>\n      <td>[Cultural Leonesa]</td>\n    </tr>\n    <tr>\n      <th>16</th>\n      <td>[Lleida, Condal, Atletico Tetuan]</td>\n    </tr>\n    <tr>\n      <th>17</th>\n      <td>[Numancia, Extremadura, Leganes]</td>\n    </tr>\n    <tr>\n      <th>19</th>\n      <td>[Merida]</td>\n    </tr>\n    <tr>\n      <th>20</th>\n      <td>[Xerez]</td>\n    </tr>\n  </tbody>\n</table>\n</div>"
     },
     "metadata": {},
     "execution_count": 135
    }
   ],
   "source": [
    "grouped_teams"
   ]
  },
  {
   "cell_type": "code",
   "execution_count": 139,
   "metadata": {},
   "outputs": [
    {
     "output_type": "execute_result",
     "data": {
      "text/plain": "Teams    [Real Madrid, Barcelona, Atletico Madrid, Vale...\nName: 1, dtype: object"
     },
     "metadata": {},
     "execution_count": 139
    }
   ],
   "source": [
    "## Past winners\n",
    "grouped_teams.loc[1]"
   ]
  }
 ],
 "metadata": {
  "language_info": {
   "codemirror_mode": {
    "name": "ipython",
    "version": 3
   },
   "file_extension": ".py",
   "mimetype": "text/x-python",
   "name": "python",
   "nbconvert_exporter": "python",
   "pygments_lexer": "ipython3",
   "version": "3.8.3-final"
  },
  "orig_nbformat": 2,
  "kernelspec": {
   "name": "python38364bit5147b5d7ec7f4a3aa2a762252c0a7cb3",
   "display_name": "Python 3.8.3 64-bit"
  }
 },
 "nbformat": 4,
 "nbformat_minor": 2
}